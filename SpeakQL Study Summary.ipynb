{
 "cells": [
  {
   "cell_type": "markdown",
   "id": "04eb9d97",
   "metadata": {
    "slideshow": {
     "slide_type": "slide"
    }
   },
   "source": [
    "## SpeakQL A/B User Study Overview and Discussion of Study Design Challenges\n",
    "\n",
    "#### SpeakQL\n",
    "SpeakQL is an extension of SQL syntax that is intented to make speech-driven querying more natural while retaining the benefit correctness by construction of a formal language.\n",
    "\n",
    "##### Features:\n",
    "- Synonyms (e.g. Get area from the room table)\n",
    "- Alternate ordering (e.g. From the room table get area)\n",
    "- Natural functions (e.g. What is the average of area in the room table)\n",
    "- Unbundling - feature allows specifying complex queries one table at a time.\n",
    "\n"
   ]
  },
  {
   "cell_type": "markdown",
   "id": "a1eb6472",
   "metadata": {
    "slideshow": {
     "slide_type": "slide"
    }
   },
   "source": [
    "### Study Design\n",
    "\n",
    "#### Objective: \n",
    "Compare SpeakQL dialect to SQL dialect in terms of planning time, total time, and number of attempts to form a correct query.\n",
    "\n",
    "#### Context:\n",
    "Online using Zoom and a custom-built user interface with audio recording and live speech-to-text transcription.\n",
    "\n",
    "#### Participants:\n",
    "- Gradudate and Undergraduate UCSD students from CSE and Business Analytics programs.\n",
    "- 23 Participants total (one dropped from data)\n",
    "\n",
    "#### Design Considerations:\n",
    "- Used counterbalancing to reduce learning effect.\n",
    "  - SQL first, then SpeakQL or SpeakQL first, then SQL\n",
    "- Practice session\n",
    "  - 3 queries in dialect 1, then repeat in dialect 2\n",
    "- Measured session\n",
    "  - 12 queries in dialect 1, then repeat in dialect 2\n",
    "- Compensation based on number of queries completed\n",
    "- Queries increased in complexity as study progressed.\n",
    "- SpeakQL feature usage was optional."
   ]
  },
  {
   "cell_type": "code",
   "execution_count": 1,
   "id": "99ff0d1a",
   "metadata": {
    "slideshow": {
     "slide_type": "skip"
    }
   },
   "outputs": [],
   "source": [
    "import pandas as pd\n",
    "import seaborn as sns\n",
    "import numpy as np\n",
    "import scipy.stats as stats\n",
    "from scipy.stats import normaltest\n",
    "from scipy.stats import mannwhitneyu as mwu\n",
    "from scipy.stats import wilcoxon as wil\n",
    "from scipy.stats import ttest_ind\n",
    "from scipy.ndimage import median\n",
    "from scipy.ndimage import mean\n",
    "from IPython.display import display\n",
    "pd.options.display.float_format = '{:,.3f}'.format\n",
    "\n",
    "df = pd.read_excel(\n",
    "    './data/df/sample-distribution-and-tests-df.xlsx'\n",
    ")\n",
    "df = df.query(\"ispractice == 0\")\n",
    "df = df.query(\"idparticipant != 18\")\n",
    "df['relative_step'] = df.apply(\n",
    "    lambda row: row.idstep - 6 if row.idstep < 19 else row.step - 18, \n",
    "    axis = 1\n",
    ")\n",
    "df['second_half'] = df.apply(\n",
    "    lambda row: 0 if row.idstep <= 18 else 1,\n",
    "    axis = 1\n",
    ")"
   ]
  },
  {
   "cell_type": "markdown",
   "id": "e39c0532",
   "metadata": {
    "slideshow": {
     "slide_type": "slide"
    }
   },
   "source": [
    "### Results Summary\n",
    "\n",
    "#### Overall Distribution\n",
    "In aggregate, planning time showed a right tail distribution for both SpeakQL and SQL\n",
    "\n",
    "#### SpeakQL - First Attempt Planning Time:"
   ]
  },
  {
   "cell_type": "code",
   "execution_count": 2,
   "id": "d6e7d6d7",
   "metadata": {
    "slideshow": {
     "slide_type": "fragment"
    }
   },
   "outputs": [
    {
     "data": {
      "text/plain": [
       "<AxesSubplot:>"
      ]
     },
     "execution_count": 2,
     "metadata": {},
     "output_type": "execute_result"
    },
    {
     "data": {
      "image/png": "[encoded data removed]",
      "text/plain": [
       "<Figure size 432x288 with 1 Axes>"
      ]
     },
     "metadata": {
      "needs_background": "light"
     },
     "output_type": "display_data"
    }
   ],
   "source": [
    "df.query('language == \"speakql\"').first_pt.hist(bins = 30)"
   ]
  },
  {
   "cell_type": "markdown",
   "id": "f7db4138",
   "metadata": {
    "slideshow": {
     "slide_type": "fragment"
    }
   },
   "source": [
    "#### SQL - First Attempt Planning Time:"
   ]
  },
  {
   "cell_type": "code",
   "execution_count": 3,
   "id": "e741c171",
   "metadata": {
    "slideshow": {
     "slide_type": "fragment"
    }
   },
   "outputs": [
    {
     "data": {
      "text/plain": [
       "<AxesSubplot:>"
      ]
     },
     "execution_count": 3,
     "metadata": {},
     "output_type": "execute_result"
    },
    {
     "data": {
      "image/png": "[encoded data removed]",
      "text/plain": [
       "<Figure size 432x288 with 1 Axes>"
      ]
     },
     "metadata": {
      "needs_background": "light"
     },
     "output_type": "display_data"
    }
   ],
   "source": [
    "df.query('language == \"sql\"').first_pt.hist(bins = 30)"
   ]
  },
  {
   "cell_type": "markdown",
   "id": "df2aa5c2",
   "metadata": {
    "slideshow": {
     "slide_type": "slide"
    }
   },
   "source": [
    "### First Planning Time Distribution by query\n",
    "\n",
    "A Shapiro-Wilkes test of normality reveals that most distributions by query are not normal (query 10 is an exception)"
   ]
  },
  {
   "cell_type": "code",
   "execution_count": 4,
   "id": "4a0d9749",
   "metadata": {
    "slideshow": {
     "slide_type": "skip"
    }
   },
   "outputs": [
    {
     "data": {
      "text/plain": [
       "Index(['Unnamed: 0', 'idparticipant', 'idsession', 'idattemptsubmission',\n",
       "       'idquery', 'idstep', 'attemptnum', 'total_time', 'recording_time',\n",
       "       'planning_time', 'tot_pt', 'first_pt', 'tot_tt', 'groupnum', 'step',\n",
       "       'speakql_first', 'language', 'ispractice', 'correct', 'usedspeakql',\n",
       "       'complexity', 'normalized', 'is_complex', 'num_mods', 'num_joins',\n",
       "       'num_funcs', 'num_proj', 'num_tables', 'num_selections',\n",
       "       'used_unbundling', 'unbundling_possible', 'used_natural_functions',\n",
       "       'natural_functions_possible', 'used_mod_ordering',\n",
       "       'mod_ordering_possible', 'used_expression_ordering',\n",
       "       'expression_ordering_possible', 'used_synonyms', 'synonyms_possible',\n",
       "       'relative_step', 'second_half'],\n",
       "      dtype='object')"
      ]
     },
     "execution_count": 4,
     "metadata": {},
     "output_type": "execute_result"
    }
   ],
   "source": [
    "df.columns"
   ]
  },
  {
   "cell_type": "code",
   "execution_count": 5,
   "id": "4caba3bd",
   "metadata": {
    "slideshow": {
     "slide_type": "fragment"
    }
   },
   "outputs": [
    {
     "data": {
      "text/html": [
       "<div>\n",
       "<style scoped>\n",
       "    .dataframe tbody tr th:only-of-type {\n",
       "        vertical-align: middle;\n",
       "    }\n",
       "\n",
       "    .dataframe tbody tr th {\n",
       "        vertical-align: top;\n",
       "    }\n",
       "\n",
       "    .dataframe thead th {\n",
       "        text-align: right;\n",
       "    }\n",
       "</style>\n",
       "<table border=\"1\" class=\"dataframe\">\n",
       "  <thead>\n",
       "    <tr style=\"text-align: right;\">\n",
       "      <th></th>\n",
       "      <th>Query</th>\n",
       "      <th>Stat</th>\n",
       "      <th>P</th>\n",
       "      <th>Normal</th>\n",
       "    </tr>\n",
       "  </thead>\n",
       "  <tbody>\n",
       "    <tr>\n",
       "      <th>0</th>\n",
       "      <td>1</td>\n",
       "      <td>0.917</td>\n",
       "      <td>0.004</td>\n",
       "      <td>False</td>\n",
       "    </tr>\n",
       "    <tr>\n",
       "      <th>1</th>\n",
       "      <td>2</td>\n",
       "      <td>0.904</td>\n",
       "      <td>0.001</td>\n",
       "      <td>False</td>\n",
       "    </tr>\n",
       "    <tr>\n",
       "      <th>2</th>\n",
       "      <td>3</td>\n",
       "      <td>0.799</td>\n",
       "      <td>0.000</td>\n",
       "      <td>False</td>\n",
       "    </tr>\n",
       "    <tr>\n",
       "      <th>3</th>\n",
       "      <td>4</td>\n",
       "      <td>0.918</td>\n",
       "      <td>0.004</td>\n",
       "      <td>False</td>\n",
       "    </tr>\n",
       "    <tr>\n",
       "      <th>4</th>\n",
       "      <td>5</td>\n",
       "      <td>0.871</td>\n",
       "      <td>0.000</td>\n",
       "      <td>False</td>\n",
       "    </tr>\n",
       "    <tr>\n",
       "      <th>5</th>\n",
       "      <td>6</td>\n",
       "      <td>0.863</td>\n",
       "      <td>0.000</td>\n",
       "      <td>False</td>\n",
       "    </tr>\n",
       "    <tr>\n",
       "      <th>6</th>\n",
       "      <td>7</td>\n",
       "      <td>0.841</td>\n",
       "      <td>0.000</td>\n",
       "      <td>False</td>\n",
       "    </tr>\n",
       "    <tr>\n",
       "      <th>7</th>\n",
       "      <td>8</td>\n",
       "      <td>0.903</td>\n",
       "      <td>0.002</td>\n",
       "      <td>False</td>\n",
       "    </tr>\n",
       "    <tr>\n",
       "      <th>8</th>\n",
       "      <td>9</td>\n",
       "      <td>0.857</td>\n",
       "      <td>0.000</td>\n",
       "      <td>False</td>\n",
       "    </tr>\n",
       "    <tr>\n",
       "      <th>9</th>\n",
       "      <td>10</td>\n",
       "      <td>0.947</td>\n",
       "      <td>0.069</td>\n",
       "      <td>True</td>\n",
       "    </tr>\n",
       "    <tr>\n",
       "      <th>10</th>\n",
       "      <td>11</td>\n",
       "      <td>0.786</td>\n",
       "      <td>0.000</td>\n",
       "      <td>False</td>\n",
       "    </tr>\n",
       "    <tr>\n",
       "      <th>11</th>\n",
       "      <td>12</td>\n",
       "      <td>0.902</td>\n",
       "      <td>0.003</td>\n",
       "      <td>False</td>\n",
       "    </tr>\n",
       "  </tbody>\n",
       "</table>\n",
       "</div>"
      ],
      "text/plain": [
       "    Query  Stat     P  Normal\n",
       "0       1 0.917 0.004   False\n",
       "1       2 0.904 0.001   False\n",
       "2       3 0.799 0.000   False\n",
       "3       4 0.918 0.004   False\n",
       "4       5 0.871 0.000   False\n",
       "5       6 0.863 0.000   False\n",
       "6       7 0.841 0.000   False\n",
       "7       8 0.903 0.002   False\n",
       "8       9 0.857 0.000   False\n",
       "9      10 0.947 0.069    True\n",
       "10     11 0.786 0.000   False\n",
       "11     12 0.902 0.003   False"
      ]
     },
     "execution_count": 5,
     "metadata": {},
     "output_type": "execute_result"
    }
   ],
   "source": [
    "d = {\"Query\": [], \"Stat\": [], \"P\":[], \"Normal\": []}\n",
    "for i in range(1, 13):\n",
    "    stat, pval = stats.shapiro(df.query(\"relative_step == \" + str(i)).first_pt)\n",
    "    d[\"Query\"].append(i)\n",
    "    d[\"Stat\"].append(stat)\n",
    "    d[\"P\"].append(pval)\n",
    "    d[\"Normal\"].append(pval > 0.05)\n",
    "pd.DataFrame(data = d)"
   ]
  },
  {
   "cell_type": "code",
   "execution_count": 6,
   "id": "5c6196ef",
   "metadata": {
    "slideshow": {
     "slide_type": "fragment"
    }
   },
   "outputs": [
    {
     "data": {
      "text/plain": [
       "<seaborn.axisgrid.FacetGrid at 0x1aa2ef9b700>"
      ]
     },
     "execution_count": 6,
     "metadata": {},
     "output_type": "execute_result"
    },
    {
     "data": {
      "image/png": "[encoded data removed]",
      "text/plain": [
       "<Figure size 938.75x648 with 12 Axes>"
      ]
     },
     "metadata": {
      "needs_background": "light"
     },
     "output_type": "display_data"
    }
   ],
   "source": [
    "g = sns.FacetGrid(df, col='relative_step', col_wrap = 4, hue='language')\n",
    "g.map_dataframe(\n",
    "    sns.histplot, \n",
    "    'first_pt', \n",
    "    bins = 10, \n",
    "    discrete = False, \n",
    "    element = 'step',\n",
    "    legend = True\n",
    ")\n",
    "g.add_legend()"
   ]
  },
  {
   "cell_type": "markdown",
   "id": "40cb5c15",
   "metadata": {
    "slideshow": {
     "slide_type": "slide"
    }
   },
   "source": [
    "### Number of AttemptsDistribution by query\n"
   ]
  },
  {
   "cell_type": "code",
   "execution_count": 7,
   "id": "7a0227b0",
   "metadata": {
    "slideshow": {
     "slide_type": "fragment"
    }
   },
   "outputs": [
    {
     "data": {
      "text/html": [
       "<div>\n",
       "<style scoped>\n",
       "    .dataframe tbody tr th:only-of-type {\n",
       "        vertical-align: middle;\n",
       "    }\n",
       "\n",
       "    .dataframe tbody tr th {\n",
       "        vertical-align: top;\n",
       "    }\n",
       "\n",
       "    .dataframe thead th {\n",
       "        text-align: right;\n",
       "    }\n",
       "</style>\n",
       "<table border=\"1\" class=\"dataframe\">\n",
       "  <thead>\n",
       "    <tr style=\"text-align: right;\">\n",
       "      <th></th>\n",
       "      <th>Query</th>\n",
       "      <th>Stat</th>\n",
       "      <th>P</th>\n",
       "      <th>Normal</th>\n",
       "    </tr>\n",
       "  </thead>\n",
       "  <tbody>\n",
       "    <tr>\n",
       "      <th>0</th>\n",
       "      <td>1</td>\n",
       "      <td>0.276</td>\n",
       "      <td>0.000</td>\n",
       "      <td>False</td>\n",
       "    </tr>\n",
       "    <tr>\n",
       "      <th>1</th>\n",
       "      <td>2</td>\n",
       "      <td>0.137</td>\n",
       "      <td>0.000</td>\n",
       "      <td>False</td>\n",
       "    </tr>\n",
       "    <tr>\n",
       "      <th>2</th>\n",
       "      <td>3</td>\n",
       "      <td>0.678</td>\n",
       "      <td>0.000</td>\n",
       "      <td>False</td>\n",
       "    </tr>\n",
       "    <tr>\n",
       "      <th>3</th>\n",
       "      <td>4</td>\n",
       "      <td>0.547</td>\n",
       "      <td>0.000</td>\n",
       "      <td>False</td>\n",
       "    </tr>\n",
       "    <tr>\n",
       "      <th>4</th>\n",
       "      <td>5</td>\n",
       "      <td>0.593</td>\n",
       "      <td>0.000</td>\n",
       "      <td>False</td>\n",
       "    </tr>\n",
       "    <tr>\n",
       "      <th>5</th>\n",
       "      <td>6</td>\n",
       "      <td>0.751</td>\n",
       "      <td>0.000</td>\n",
       "      <td>False</td>\n",
       "    </tr>\n",
       "    <tr>\n",
       "      <th>6</th>\n",
       "      <td>7</td>\n",
       "      <td>0.598</td>\n",
       "      <td>0.000</td>\n",
       "      <td>False</td>\n",
       "    </tr>\n",
       "    <tr>\n",
       "      <th>7</th>\n",
       "      <td>8</td>\n",
       "      <td>0.786</td>\n",
       "      <td>0.000</td>\n",
       "      <td>False</td>\n",
       "    </tr>\n",
       "    <tr>\n",
       "      <th>8</th>\n",
       "      <td>9</td>\n",
       "      <td>0.731</td>\n",
       "      <td>0.000</td>\n",
       "      <td>False</td>\n",
       "    </tr>\n",
       "    <tr>\n",
       "      <th>9</th>\n",
       "      <td>10</td>\n",
       "      <td>0.698</td>\n",
       "      <td>0.000</td>\n",
       "      <td>False</td>\n",
       "    </tr>\n",
       "    <tr>\n",
       "      <th>10</th>\n",
       "      <td>11</td>\n",
       "      <td>0.486</td>\n",
       "      <td>0.000</td>\n",
       "      <td>False</td>\n",
       "    </tr>\n",
       "    <tr>\n",
       "      <th>11</th>\n",
       "      <td>12</td>\n",
       "      <td>0.720</td>\n",
       "      <td>0.000</td>\n",
       "      <td>False</td>\n",
       "    </tr>\n",
       "  </tbody>\n",
       "</table>\n",
       "</div>"
      ],
      "text/plain": [
       "    Query  Stat     P  Normal\n",
       "0       1 0.276 0.000   False\n",
       "1       2 0.137 0.000   False\n",
       "2       3 0.678 0.000   False\n",
       "3       4 0.547 0.000   False\n",
       "4       5 0.593 0.000   False\n",
       "5       6 0.751 0.000   False\n",
       "6       7 0.598 0.000   False\n",
       "7       8 0.786 0.000   False\n",
       "8       9 0.731 0.000   False\n",
       "9      10 0.698 0.000   False\n",
       "10     11 0.486 0.000   False\n",
       "11     12 0.720 0.000   False"
      ]
     },
     "execution_count": 7,
     "metadata": {},
     "output_type": "execute_result"
    }
   ],
   "source": [
    "d = {\"Query\": [], \"Stat\": [], \"P\":[], \"Normal\": []}\n",
    "for i in range(1, 13):\n",
    "    stat, pval = stats.shapiro(df.query(\"relative_step == \" + str(i)).attemptnum)\n",
    "    d[\"Query\"].append(i)\n",
    "    d[\"Stat\"].append(stat)\n",
    "    d[\"P\"].append(pval)\n",
    "    d[\"Normal\"].append(pval > 0.05)\n",
    "pd.DataFrame(data = d)"
   ]
  },
  {
   "cell_type": "code",
   "execution_count": 8,
   "id": "8f07175a",
   "metadata": {
    "slideshow": {
     "slide_type": "fragment"
    }
   },
   "outputs": [
    {
     "data": {
      "text/plain": [
       "<seaborn.axisgrid.FacetGrid at 0x1aa2eefd6a0>"
      ]
     },
     "execution_count": 8,
     "metadata": {},
     "output_type": "execute_result"
    },
    {
     "data": {
      "image/png": "[encoded data removed]",
      "text/plain": [
       "<Figure size 938.75x648 with 12 Axes>"
      ]
     },
     "metadata": {
      "needs_background": "light"
     },
     "output_type": "display_data"
    }
   ],
   "source": [
    "g = sns.FacetGrid(df, col='relative_step', col_wrap = 4, hue='language')\n",
    "g.map_dataframe(\n",
    "    sns.histplot, \n",
    "    'attemptnum', \n",
    "    bins = 3, \n",
    "    discrete = True, \n",
    "    element = 'bars',\n",
    "    legend = True\n",
    ")\n",
    "g.add_legend()"
   ]
  },
  {
   "cell_type": "markdown",
   "id": "40812217",
   "metadata": {
    "slideshow": {
     "slide_type": "slide"
    }
   },
   "source": [
    "### Mann-Whitney U-Test on Non-Parametric Data"
   ]
  },
  {
   "cell_type": "code",
   "execution_count": 9,
   "id": "1275afed",
   "metadata": {
    "scrolled": false,
    "slideshow": {
     "slide_type": "skip"
    }
   },
   "outputs": [],
   "source": [
    "\n",
    "dep_vars = ['first_pt', 'tot_tt', 'attemptnum']\n",
    "result_dfs = []\n",
    "# dep_vars = ['recording_time']\n",
    "df_sql = df.query(\"language == 'sql'\")\n",
    "df_speakql = df.query(\"language == 'speakql'\")\n",
    "\n",
    "for dep_var in dep_vars:\n",
    "    mwu_results = {}\n",
    "    for idquery in df.idquery.unique():\n",
    "        subset_sql = df_sql.where(df_sql.idquery == idquery).dropna(how = 'all')\n",
    "        subset_speakql = df_speakql.where(df_speakql.idquery == idquery).dropna(how = 'all')\n",
    "        mwu_results[(dep_var, idquery)] = {\n",
    "            'u_test_pval' : mwu(\n",
    "            x = subset_sql[dep_var],\n",
    "            y = df_speakql.where(df_speakql.idquery == idquery).dropna(how = 'all')[dep_var]\n",
    "            )[1],\n",
    "            'median_sql' : subset_sql[dep_var].median(),\n",
    "            'median_speakql' : subset_speakql[dep_var].median()\n",
    "        }\n",
    "    result_dfs.append(pd.DataFrame(mwu_results))\n"
   ]
  },
  {
   "cell_type": "code",
   "execution_count": 10,
   "id": "5bcbf5c3",
   "metadata": {
    "scrolled": false,
    "slideshow": {
     "slide_type": "subslide"
    }
   },
   "outputs": [
    {
     "data": {
      "text/html": [
       "<div>\n",
       "<style scoped>\n",
       "    .dataframe tbody tr th:only-of-type {\n",
       "        vertical-align: middle;\n",
       "    }\n",
       "\n",
       "    .dataframe tbody tr th {\n",
       "        vertical-align: top;\n",
       "    }\n",
       "\n",
       "    .dataframe thead tr th {\n",
       "        text-align: left;\n",
       "    }\n",
       "</style>\n",
       "<table border=\"1\" class=\"dataframe\">\n",
       "  <thead>\n",
       "    <tr>\n",
       "      <th></th>\n",
       "      <th colspan=\"12\" halign=\"left\">first_pt</th>\n",
       "    </tr>\n",
       "    <tr>\n",
       "      <th></th>\n",
       "      <th>2</th>\n",
       "      <th>3</th>\n",
       "      <th>4</th>\n",
       "      <th>7</th>\n",
       "      <th>9</th>\n",
       "      <th>10</th>\n",
       "      <th>11</th>\n",
       "      <th>12</th>\n",
       "      <th>13</th>\n",
       "      <th>14</th>\n",
       "      <th>15</th>\n",
       "      <th>17</th>\n",
       "    </tr>\n",
       "  </thead>\n",
       "  <tbody>\n",
       "    <tr>\n",
       "      <th>u_test_pval</th>\n",
       "      <td>0.248</td>\n",
       "      <td>0.349</td>\n",
       "      <td>0.336</td>\n",
       "      <td>0.070</td>\n",
       "      <td>0.380</td>\n",
       "      <td>0.341</td>\n",
       "      <td>0.481</td>\n",
       "      <td>0.420</td>\n",
       "      <td>0.175</td>\n",
       "      <td>0.471</td>\n",
       "      <td>0.254</td>\n",
       "      <td>0.311</td>\n",
       "    </tr>\n",
       "    <tr>\n",
       "      <th>median_sql</th>\n",
       "      <td>20.500</td>\n",
       "      <td>10.500</td>\n",
       "      <td>53.000</td>\n",
       "      <td>51.500</td>\n",
       "      <td>45.500</td>\n",
       "      <td>69.500</td>\n",
       "      <td>79.000</td>\n",
       "      <td>105.000</td>\n",
       "      <td>52.000</td>\n",
       "      <td>73.000</td>\n",
       "      <td>37.000</td>\n",
       "      <td>147.000</td>\n",
       "    </tr>\n",
       "    <tr>\n",
       "      <th>median_speakql</th>\n",
       "      <td>22.000</td>\n",
       "      <td>11.000</td>\n",
       "      <td>58.500</td>\n",
       "      <td>66.500</td>\n",
       "      <td>48.500</td>\n",
       "      <td>68.500</td>\n",
       "      <td>65.000</td>\n",
       "      <td>96.000</td>\n",
       "      <td>50.000</td>\n",
       "      <td>68.000</td>\n",
       "      <td>36.000</td>\n",
       "      <td>119.000</td>\n",
       "    </tr>\n",
       "  </tbody>\n",
       "</table>\n",
       "</div>"
      ],
      "text/plain": [
       "               first_pt                                                    \\\n",
       "                     2      3      4      7      9      10     11      12   \n",
       "u_test_pval       0.248  0.349  0.336  0.070  0.380  0.341  0.481   0.420   \n",
       "median_sql       20.500 10.500 53.000 51.500 45.500 69.500 79.000 105.000   \n",
       "median_speakql   22.000 11.000 58.500 66.500 48.500 68.500 65.000  96.000   \n",
       "\n",
       "                                             \n",
       "                   13     14     15      17  \n",
       "u_test_pval     0.175  0.471  0.254   0.311  \n",
       "median_sql     52.000 73.000 37.000 147.000  \n",
       "median_speakql 50.000 68.000 36.000 119.000  "
      ]
     },
     "metadata": {},
     "output_type": "display_data"
    },
    {
     "data": {
      "text/html": [
       "<div>\n",
       "<style scoped>\n",
       "    .dataframe tbody tr th:only-of-type {\n",
       "        vertical-align: middle;\n",
       "    }\n",
       "\n",
       "    .dataframe tbody tr th {\n",
       "        vertical-align: top;\n",
       "    }\n",
       "\n",
       "    .dataframe thead tr th {\n",
       "        text-align: left;\n",
       "    }\n",
       "</style>\n",
       "<table border=\"1\" class=\"dataframe\">\n",
       "  <thead>\n",
       "    <tr>\n",
       "      <th></th>\n",
       "      <th colspan=\"12\" halign=\"left\">tot_tt</th>\n",
       "    </tr>\n",
       "    <tr>\n",
       "      <th></th>\n",
       "      <th>2</th>\n",
       "      <th>3</th>\n",
       "      <th>4</th>\n",
       "      <th>7</th>\n",
       "      <th>9</th>\n",
       "      <th>10</th>\n",
       "      <th>11</th>\n",
       "      <th>12</th>\n",
       "      <th>13</th>\n",
       "      <th>14</th>\n",
       "      <th>15</th>\n",
       "      <th>17</th>\n",
       "    </tr>\n",
       "  </thead>\n",
       "  <tbody>\n",
       "    <tr>\n",
       "      <th>u_test_pval</th>\n",
       "      <td>0.495</td>\n",
       "      <td>0.421</td>\n",
       "      <td>0.259</td>\n",
       "      <td>0.013</td>\n",
       "      <td>0.319</td>\n",
       "      <td>0.140</td>\n",
       "      <td>0.148</td>\n",
       "      <td>0.330</td>\n",
       "      <td>0.047</td>\n",
       "      <td>0.207</td>\n",
       "      <td>0.146</td>\n",
       "      <td>0.406</td>\n",
       "    </tr>\n",
       "    <tr>\n",
       "      <th>median_sql</th>\n",
       "      <td>34.500</td>\n",
       "      <td>20.000</td>\n",
       "      <td>78.500</td>\n",
       "      <td>78.000</td>\n",
       "      <td>83.500</td>\n",
       "      <td>113.500</td>\n",
       "      <td>115.000</td>\n",
       "      <td>160.000</td>\n",
       "      <td>137.000</td>\n",
       "      <td>142.000</td>\n",
       "      <td>92.000</td>\n",
       "      <td>260.000</td>\n",
       "    </tr>\n",
       "    <tr>\n",
       "      <th>median_speakql</th>\n",
       "      <td>32.500</td>\n",
       "      <td>20.500</td>\n",
       "      <td>93.500</td>\n",
       "      <td>115.500</td>\n",
       "      <td>91.000</td>\n",
       "      <td>137.500</td>\n",
       "      <td>130.500</td>\n",
       "      <td>192.000</td>\n",
       "      <td>115.000</td>\n",
       "      <td>116.000</td>\n",
       "      <td>86.000</td>\n",
       "      <td>302.000</td>\n",
       "    </tr>\n",
       "  </tbody>\n",
       "</table>\n",
       "</div>"
      ],
      "text/plain": [
       "               tot_tt                                                       \\\n",
       "                   2      3      4       7      9       10      11      12   \n",
       "u_test_pval     0.495  0.421  0.259   0.013  0.319   0.140   0.148   0.330   \n",
       "median_sql     34.500 20.000 78.500  78.000 83.500 113.500 115.000 160.000   \n",
       "median_speakql 32.500 20.500 93.500 115.500 91.000 137.500 130.500 192.000   \n",
       "\n",
       "                                               \n",
       "                    13      14     15      17  \n",
       "u_test_pval      0.047   0.207  0.146   0.406  \n",
       "median_sql     137.000 142.000 92.000 260.000  \n",
       "median_speakql 115.000 116.000 86.000 302.000  "
      ]
     },
     "metadata": {},
     "output_type": "display_data"
    },
    {
     "data": {
      "text/html": [
       "<div>\n",
       "<style scoped>\n",
       "    .dataframe tbody tr th:only-of-type {\n",
       "        vertical-align: middle;\n",
       "    }\n",
       "\n",
       "    .dataframe tbody tr th {\n",
       "        vertical-align: top;\n",
       "    }\n",
       "\n",
       "    .dataframe thead tr th {\n",
       "        text-align: left;\n",
       "    }\n",
       "</style>\n",
       "<table border=\"1\" class=\"dataframe\">\n",
       "  <thead>\n",
       "    <tr>\n",
       "      <th></th>\n",
       "      <th colspan=\"12\" halign=\"left\">attemptnum</th>\n",
       "    </tr>\n",
       "    <tr>\n",
       "      <th></th>\n",
       "      <th>2</th>\n",
       "      <th>3</th>\n",
       "      <th>4</th>\n",
       "      <th>7</th>\n",
       "      <th>9</th>\n",
       "      <th>10</th>\n",
       "      <th>11</th>\n",
       "      <th>12</th>\n",
       "      <th>13</th>\n",
       "      <th>14</th>\n",
       "      <th>15</th>\n",
       "      <th>17</th>\n",
       "    </tr>\n",
       "  </thead>\n",
       "  <tbody>\n",
       "    <tr>\n",
       "      <th>u_test_pval</th>\n",
       "      <td>0.286</td>\n",
       "      <td>0.170</td>\n",
       "      <td>0.326</td>\n",
       "      <td>0.084</td>\n",
       "      <td>0.470</td>\n",
       "      <td>0.168</td>\n",
       "      <td>0.212</td>\n",
       "      <td>0.408</td>\n",
       "      <td>0.136</td>\n",
       "      <td>0.216</td>\n",
       "      <td>0.086</td>\n",
       "      <td>0.393</td>\n",
       "    </tr>\n",
       "    <tr>\n",
       "      <th>median_sql</th>\n",
       "      <td>1.000</td>\n",
       "      <td>1.000</td>\n",
       "      <td>1.000</td>\n",
       "      <td>1.000</td>\n",
       "      <td>1.000</td>\n",
       "      <td>1.500</td>\n",
       "      <td>1.000</td>\n",
       "      <td>2.000</td>\n",
       "      <td>2.000</td>\n",
       "      <td>1.000</td>\n",
       "      <td>1.000</td>\n",
       "      <td>1.000</td>\n",
       "    </tr>\n",
       "    <tr>\n",
       "      <th>median_speakql</th>\n",
       "      <td>1.000</td>\n",
       "      <td>1.000</td>\n",
       "      <td>1.000</td>\n",
       "      <td>1.000</td>\n",
       "      <td>1.000</td>\n",
       "      <td>2.000</td>\n",
       "      <td>1.000</td>\n",
       "      <td>2.000</td>\n",
       "      <td>1.000</td>\n",
       "      <td>1.000</td>\n",
       "      <td>1.000</td>\n",
       "      <td>1.000</td>\n",
       "    </tr>\n",
       "  </tbody>\n",
       "</table>\n",
       "</div>"
      ],
      "text/plain": [
       "               attemptnum                                                  \\\n",
       "                       2     3     4     7     9     10    11    12    13   \n",
       "u_test_pval         0.286 0.170 0.326 0.084 0.470 0.168 0.212 0.408 0.136   \n",
       "median_sql          1.000 1.000 1.000 1.000 1.000 1.500 1.000 2.000 2.000   \n",
       "median_speakql      1.000 1.000 1.000 1.000 1.000 2.000 1.000 2.000 1.000   \n",
       "\n",
       "                                  \n",
       "                  14    15    17  \n",
       "u_test_pval    0.216 0.086 0.393  \n",
       "median_sql     1.000 1.000 1.000  \n",
       "median_speakql 1.000 1.000 1.000  "
      ]
     },
     "metadata": {},
     "output_type": "display_data"
    }
   ],
   "source": [
    "for result in result_dfs:\n",
    "    display(result)"
   ]
  },
  {
   "cell_type": "markdown",
   "id": "8b7622e0",
   "metadata": {
    "slideshow": {
     "slide_type": "subslide"
    }
   },
   "source": [
    "#### Box and Whisker plots of performance by dialect\n"
   ]
  },
  {
   "cell_type": "code",
   "execution_count": 11,
   "id": "eeb037cd",
   "metadata": {
    "slideshow": {
     "slide_type": "skip"
    }
   },
   "outputs": [],
   "source": [
    "df_temp = df.rename(columns={\n",
    "    'first_pt': 'First Attempt Planning Time',\n",
    "    'relative_step': 'Query'\n",
    "})\n",
    "df_temp['Query'] = df_temp.apply(lambda row: str(int(row.Query)), axis=1)\n",
    "df_temp['language'] = df_temp.apply(lambda row: {'sql': 'sql (L)', 'speakql': 'speakql (R)'}[row.language], axis=1)"
   ]
  },
  {
   "cell_type": "code",
   "execution_count": 12,
   "id": "71954eab",
   "metadata": {
    "slideshow": {
     "slide_type": "fragment"
    }
   },
   "outputs": [
    {
     "data": {
      "image/png": "[encoded data removed]",
      "text/plain": [
       "<Figure size 610.9x216 with 1 Axes>"
      ]
     },
     "metadata": {
      "needs_background": "light"
     },
     "output_type": "display_data"
    },
    {
     "data": {
      "image/png": "[encoded data removed]",
      "text/plain": [
       "<Figure size 610.9x216 with 1 Axes>"
      ]
     },
     "metadata": {
      "needs_background": "light"
     },
     "output_type": "display_data"
    }
   ],
   "source": [
    "for var in ['First Attempt Planning Time', 'tot_tt']:\n",
    "    g = sns.catplot(\n",
    "        kind='box',data = df_temp, \n",
    "        x = 'Query', \n",
    "        y = var, \n",
    "        hue = 'language', \n",
    "        orient = 'v',\n",
    "        aspect = 2.4,\n",
    "        height = 3\n",
    "    )\n",
    "    g.set_axis_labels(\"\", var, fontsize='large')\n",
    "    hatches = ['.', '+']"
   ]
  },
  {
   "cell_type": "code",
   "execution_count": 13,
   "id": "2240c9a5",
   "metadata": {
    "slideshow": {
     "slide_type": "skip"
    }
   },
   "outputs": [],
   "source": [
    "attempt_legend = {1: \"1 *\", 2: \"2 +\", 3: \"3 X\"}\n",
    "\n",
    "df_temp['Number of Attempts'] = df.apply(lambda row: attempt_legend[int(row.attemptnum)], axis = 1)\n",
    "df_temp['Dialect'] = df.apply(lambda row: 'SQL' if row.language == 'sql' else 'SPK', axis = 1)\n",
    "df_temp['Q'] = df.apply(lambda row: str(int(row.relative_step)), axis = 1)\n",
    "hatches = ['.', '.', '+', '+', 'x', 'x']"
   ]
  },
  {
   "cell_type": "code",
   "execution_count": 14,
   "id": "e35b3583",
   "metadata": {
    "slideshow": {
     "slide_type": "fragment"
    }
   },
   "outputs": [
    {
     "data": {
      "text/plain": [
       "<seaborn.axisgrid.FacetGrid at 0x1aa2f51bfa0>"
      ]
     },
     "execution_count": 14,
     "metadata": {},
     "output_type": "execute_result"
    },
    {
     "data": {
      "image/png": "[encoded data removed]",
      "text/plain": [
       "<Figure size 1189.5x180 with 12 Axes>"
      ]
     },
     "metadata": {
      "needs_background": "light"
     },
     "output_type": "display_data"
    }
   ],
   "source": [
    "g = sns.displot(\n",
    "    df_temp, \n",
    "    x='Dialect', \n",
    "    col='Q', \n",
    "    hue='Number of Attempts', \n",
    "    hue_order=['3 X', '2 +', '1 *'],\n",
    "    col_wrap=12,\n",
    "    height=2.5,\n",
    "    aspect=.5,\n",
    "    kind='hist',\n",
    "    multiple='stack',\n",
    "    stat='count'\n",
    ")\n",
    "g.set_axis_labels(\"\")\n",
    "g.set_titles(\"Q\" + \"{col_name}\")\n"
   ]
  },
  {
   "cell_type": "markdown",
   "id": "14d177f2",
   "metadata": {
    "slideshow": {
     "slide_type": "slide"
    }
   },
   "source": [
    "### Group Effect Analysis\n",
    "- We used counterbalancing between two groups to offset learning effect.\n",
    "- Participants were randomly assigned to either group 1 or group 2\n",
    "  - Group 1: SpeakQL first, then SQL\n",
    "  - Group 2: SQL first, then SpeakQL"
   ]
  },
  {
   "cell_type": "markdown",
   "id": "df06efe4",
   "metadata": {
    "slideshow": {
     "slide_type": "subslide"
    }
   },
   "source": [
    "#### Feature Usage by Group\n",
    "Feature usage was optional; and we observed different usage rates between groups.\n",
    "  - Participants in group 1 (SpeakQL First) used unbundling much more frequently\n",
    "  - Participants in group 2 (SQL First) used other features slightly more frequently"
   ]
  },
  {
   "cell_type": "code",
   "execution_count": 15,
   "id": "8114cbd9",
   "metadata": {
    "slideshow": {
     "slide_type": "skip"
    }
   },
   "outputs": [],
   "source": [
    "used_df = pd.melt(\n",
    "    df, id_vars =['groupnum', 'idparticipant', 'idsession', 'idstep'], \n",
    "    value_vars = [\n",
    "        'used_synonyms',\n",
    "        'used_expression_ordering',\n",
    "        'used_mod_ordering',\n",
    "        'used_natural_functions',\n",
    "        'used_unbundling'\n",
    "    ]\n",
    ")\n",
    "\n",
    "possible_df = pd.melt(\n",
    "    df, id_vars =['groupnum', 'idparticipant', 'idsession', 'idstep'], \n",
    "    value_vars = [\n",
    "        'synonyms_possible',\n",
    "        'expression_ordering_possible',\n",
    "        'mod_ordering_possible',\n",
    "        'natural_functions_possible',\n",
    "        'unbundling_possible'\n",
    "    ]\n",
    ")\n",
    "\n",
    "used_sum = used_df[['groupnum', 'variable', 'value']].groupby(\n",
    "    ['groupnum', 'variable']\n",
    ").sum()\n",
    "\n",
    "possible_sum = possible_df[['groupnum', 'variable', 'value']].groupby(\n",
    "    ['groupnum', 'variable']\n",
    ").sum()\n",
    "\n",
    "sum_compare = used_sum\n",
    "sum_compare = sum_compare.rename(columns = {'value' : 'used'}).reset_index()\n",
    "sum_compare['possible'] = possible_sum.reset_index().value\n",
    "\n",
    "sum_compare['perc_usage'] = sum_compare.used / sum_compare.possible\n"
   ]
  },
  {
   "cell_type": "code",
   "execution_count": 16,
   "id": "a2e1bda9",
   "metadata": {
    "slideshow": {
     "slide_type": "fragment"
    }
   },
   "outputs": [
    {
     "data": {
      "text/html": [
       "<div>\n",
       "<style scoped>\n",
       "    .dataframe tbody tr th:only-of-type {\n",
       "        vertical-align: middle;\n",
       "    }\n",
       "\n",
       "    .dataframe tbody tr th {\n",
       "        vertical-align: top;\n",
       "    }\n",
       "\n",
       "    .dataframe thead th {\n",
       "        text-align: right;\n",
       "    }\n",
       "</style>\n",
       "<table border=\"1\" class=\"dataframe\">\n",
       "  <thead>\n",
       "    <tr style=\"text-align: right;\">\n",
       "      <th></th>\n",
       "      <th>groupnum</th>\n",
       "      <th>variable</th>\n",
       "      <th>used</th>\n",
       "      <th>possible</th>\n",
       "      <th>perc_usage</th>\n",
       "    </tr>\n",
       "  </thead>\n",
       "  <tbody>\n",
       "    <tr>\n",
       "      <th>0</th>\n",
       "      <td>group1</td>\n",
       "      <td>used_expression_ordering</td>\n",
       "      <td>8.000</td>\n",
       "      <td>123.000</td>\n",
       "      <td>0.065</td>\n",
       "    </tr>\n",
       "    <tr>\n",
       "      <th>5</th>\n",
       "      <td>group2</td>\n",
       "      <td>used_expression_ordering</td>\n",
       "      <td>13.000</td>\n",
       "      <td>118.000</td>\n",
       "      <td>0.110</td>\n",
       "    </tr>\n",
       "    <tr>\n",
       "      <th>1</th>\n",
       "      <td>group1</td>\n",
       "      <td>used_mod_ordering</td>\n",
       "      <td>1.000</td>\n",
       "      <td>37.000</td>\n",
       "      <td>0.027</td>\n",
       "    </tr>\n",
       "    <tr>\n",
       "      <th>6</th>\n",
       "      <td>group2</td>\n",
       "      <td>used_mod_ordering</td>\n",
       "      <td>1.000</td>\n",
       "      <td>38.000</td>\n",
       "      <td>0.026</td>\n",
       "    </tr>\n",
       "    <tr>\n",
       "      <th>2</th>\n",
       "      <td>group1</td>\n",
       "      <td>used_natural_functions</td>\n",
       "      <td>65.000</td>\n",
       "      <td>81.000</td>\n",
       "      <td>0.802</td>\n",
       "    </tr>\n",
       "    <tr>\n",
       "      <th>7</th>\n",
       "      <td>group2</td>\n",
       "      <td>used_natural_functions</td>\n",
       "      <td>73.000</td>\n",
       "      <td>78.000</td>\n",
       "      <td>0.936</td>\n",
       "    </tr>\n",
       "    <tr>\n",
       "      <th>3</th>\n",
       "      <td>group1</td>\n",
       "      <td>used_synonyms</td>\n",
       "      <td>57.000</td>\n",
       "      <td>123.000</td>\n",
       "      <td>0.463</td>\n",
       "    </tr>\n",
       "    <tr>\n",
       "      <th>8</th>\n",
       "      <td>group2</td>\n",
       "      <td>used_synonyms</td>\n",
       "      <td>71.000</td>\n",
       "      <td>118.000</td>\n",
       "      <td>0.602</td>\n",
       "    </tr>\n",
       "    <tr>\n",
       "      <th>4</th>\n",
       "      <td>group1</td>\n",
       "      <td>used_unbundling</td>\n",
       "      <td>85.000</td>\n",
       "      <td>90.000</td>\n",
       "      <td>0.944</td>\n",
       "    </tr>\n",
       "    <tr>\n",
       "      <th>9</th>\n",
       "      <td>group2</td>\n",
       "      <td>used_unbundling</td>\n",
       "      <td>36.000</td>\n",
       "      <td>88.000</td>\n",
       "      <td>0.409</td>\n",
       "    </tr>\n",
       "  </tbody>\n",
       "</table>\n",
       "</div>"
      ],
      "text/plain": [
       "  groupnum                  variable   used  possible  perc_usage\n",
       "0   group1  used_expression_ordering  8.000   123.000       0.065\n",
       "5   group2  used_expression_ordering 13.000   118.000       0.110\n",
       "1   group1         used_mod_ordering  1.000    37.000       0.027\n",
       "6   group2         used_mod_ordering  1.000    38.000       0.026\n",
       "2   group1    used_natural_functions 65.000    81.000       0.802\n",
       "7   group2    used_natural_functions 73.000    78.000       0.936\n",
       "3   group1             used_synonyms 57.000   123.000       0.463\n",
       "8   group2             used_synonyms 71.000   118.000       0.602\n",
       "4   group1           used_unbundling 85.000    90.000       0.944\n",
       "9   group2           used_unbundling 36.000    88.000       0.409"
      ]
     },
     "metadata": {},
     "output_type": "display_data"
    },
    {
     "data": {
      "image/png": "[encoded data removed]",
      "text/plain": [
       "<Figure size 431.25x360 with 1 Axes>"
      ]
     },
     "metadata": {
      "needs_background": "light"
     },
     "output_type": "display_data"
    }
   ],
   "source": [
    "g = sns.catplot(\n",
    "    data = sum_compare,\n",
    "    kind = 'bar',\n",
    "    x = 'variable',\n",
    "    y = 'perc_usage',\n",
    "    hue = 'groupnum'\n",
    ")\n",
    "g.set_xticklabels(rotation = 45)\n",
    "display(sum_compare.sort_values(by=['variable']))"
   ]
  },
  {
   "cell_type": "markdown",
   "id": "73dbf0b5",
   "metadata": {
    "slideshow": {
     "slide_type": "subslide"
    }
   },
   "source": [
    "#### Group Median and Distribution Observations by Dependent Variable"
   ]
  },
  {
   "cell_type": "code",
   "execution_count": 17,
   "id": "b2a5d702",
   "metadata": {
    "slideshow": {
     "slide_type": "fragment"
    }
   },
   "outputs": [
    {
     "data": {
      "image/png": "[encoded data removed]",
      "text/plain": [
       "<Figure size 360x360 with 1 Axes>"
      ]
     },
     "metadata": {
      "needs_background": "light"
     },
     "output_type": "display_data"
    },
    {
     "data": {
      "image/png": "[encoded data removed]",
      "text/plain": [
       "<Figure size 360x360 with 1 Axes>"
      ]
     },
     "metadata": {
      "needs_background": "light"
     },
     "output_type": "display_data"
    },
    {
     "data": {
      "image/png": "[encoded data removed]",
      "text/plain": [
       "<Figure size 360x360 with 1 Axes>"
      ]
     },
     "metadata": {
      "needs_background": "light"
     },
     "output_type": "display_data"
    }
   ],
   "source": [
    "g = sns.catplot(x='groupnum', y='first_pt', data=df.sort_values(by='groupnum'), kind='box')\n",
    "g3 = sns.catplot(x='groupnum', y='total_time', data=df.sort_values(by='groupnum'), kind='box')\n",
    "g4 = sns.catplot(x='groupnum', y='attemptnum', data=df.sort_values(by='groupnum'), kind='box')\n"
   ]
  },
  {
   "cell_type": "markdown",
   "id": "bb8707f9",
   "metadata": {
    "slideshow": {
     "slide_type": "subslide"
    }
   },
   "source": [
    "#### Observation of asymmetric learning\n",
    "The following charts show performance by language between the first and second half of the experiment.\n",
    "\n",
    "We can see that for Group 1 (SpeakQL first), their performance in the second half (using SQL) experienced less improvement than participants in Group 2 (SQL first).\n",
    "\n",
    "This observation suggests some sort of asymmetry in our data."
   ]
  },
  {
   "cell_type": "code",
   "execution_count": 18,
   "id": "ab480cc5",
   "metadata": {
    "slideshow": {
     "slide_type": "fragment"
    }
   },
   "outputs": [
    {
     "data": {
      "text/plain": [
       "<seaborn.axisgrid.FacetGrid at 0x1aa30821bb0>"
      ]
     },
     "execution_count": 18,
     "metadata": {},
     "output_type": "execute_result"
    },
    {
     "data": {
      "image/png": "[encoded data removed]",
      "text/plain": [
       "<Figure size 434.75x360 with 1 Axes>"
      ]
     },
     "metadata": {
      "needs_background": "light"
     },
     "output_type": "display_data"
    },
    {
     "data": {
      "image/png": "[encoded data removed]",
      "text/plain": [
       "<Figure size 434.75x360 with 1 Axes>"
      ]
     },
     "metadata": {
      "needs_background": "light"
     },
     "output_type": "display_data"
    },
    {
     "data": {
      "image/png": "[encoded data removed]",
      "text/plain": [
       "<Figure size 434.75x360 with 1 Axes>"
      ]
     },
     "metadata": {
      "needs_background": "light"
     },
     "output_type": "display_data"
    }
   ],
   "source": [
    "sns.lmplot(data = df,\n",
    "           x = 'second_half',\n",
    "           y = 'first_pt',\n",
    "           hue = 'language'\n",
    "          )\n",
    "\n",
    "sns.lmplot(data = df,\n",
    "           x = 'second_half',\n",
    "           y = 'attemptnum',\n",
    "           hue = 'language'\n",
    "          )\n",
    "\n",
    "sns.lmplot(data = df,\n",
    "           x = 'second_half',\n",
    "           y = 'tot_tt',\n",
    "           hue = 'language'\n",
    "          )"
   ]
  },
  {
   "cell_type": "markdown",
   "id": "e08ede49",
   "metadata": {
    "slideshow": {
     "slide_type": "subslide"
    }
   },
   "source": [
    "#### Reconsidering Performance Data based on Groups"
   ]
  },
  {
   "cell_type": "markdown",
   "id": "0926015a",
   "metadata": {
    "slideshow": {
     "slide_type": "fragment"
    }
   },
   "source": [
    "- Overall, the SpeakQL-first group performed more slowly in their first dialect (SpeakQL) than the SQL-first group performed in their first dialect (SQL). This suggests a SpeakQL learning curve.\n",
    "\n",
    "- Strangely, we observe the opposite in the second dialects. The SpeakQL-first group performed more slowly in their second dialect (SQL), than the SQL-first group performed using SpeakQL."
   ]
  },
  {
   "cell_type": "code",
   "execution_count": 19,
   "id": "75cbf38b",
   "metadata": {
    "slideshow": {
     "slide_type": "fragment"
    }
   },
   "outputs": [
    {
     "data": {
      "text/plain": [
       "<seaborn.axisgrid.FacetGrid at 0x1aa303a2e80>"
      ]
     },
     "execution_count": 19,
     "metadata": {},
     "output_type": "execute_result"
    },
    {
     "data": {
      "image/png": "[encoded data removed]",
      "text/plain": [
       "<Figure size 977.125x432 with 1 Axes>"
      ]
     },
     "metadata": {
      "needs_background": "light"
     },
     "output_type": "display_data"
    }
   ],
   "source": [
    "df_temp = df.rename(columns={\n",
    "    'tot_tt': 'Total Time',\n",
    "    'relative_step': 'Query'\n",
    "})\n",
    "df_temp['Total Time'] = df_temp['Total Time'].astype(int)\n",
    "df_temp['Query'] = df_temp.apply(lambda row: str(int(row.Query)), axis=1)\n",
    "df_temp['Group + Language'] = df_temp.apply(lambda row: row.groupnum + \" \" + row.language, axis = 1) \n",
    "\n",
    "g = sns.catplot(\n",
    "    kind='box',data = df_temp.sort_values(by=['groupnum', 'step']), \n",
    "    x = 'Query', \n",
    "    y = 'Total Time', \n",
    "    hue = 'Group + Language', \n",
    "    orient = 'v',\n",
    "    aspect = 2,\n",
    "    height = 6,\n",
    "    legend = True\n",
    ")\n",
    "\n",
    "g.set_axis_labels(\"\", \"Total Time\", fontsize='large')\n",
    "g.set(title = \"Group 1: SpeakQL first, Group 2: SQL first\")"
   ]
  },
  {
   "cell_type": "markdown",
   "id": "f9af9c31",
   "metadata": {
    "slideshow": {
     "slide_type": "fragment"
    }
   },
   "source": [
    "We observe this disparity in both first attempt planning time, and total time."
   ]
  },
  {
   "cell_type": "code",
   "execution_count": 20,
   "id": "29abe1cb",
   "metadata": {
    "slideshow": {
     "slide_type": "fragment"
    }
   },
   "outputs": [
    {
     "data": {
      "text/plain": [
       "<seaborn.axisgrid.FacetGrid at 0x1aa31f8b490>"
      ]
     },
     "execution_count": 20,
     "metadata": {},
     "output_type": "execute_result"
    },
    {
     "data": {
      "image/png": "[encoded data removed]",
      "text/plain": [
       "<Figure size 977.125x432 with 1 Axes>"
      ]
     },
     "metadata": {
      "needs_background": "light"
     },
     "output_type": "display_data"
    }
   ],
   "source": [
    "df_temp = df.rename(columns={\n",
    "    'first_pt': 'First Attempt Planning Time',\n",
    "    'relative_step': 'Query'\n",
    "})\n",
    "df_temp['First Attempt Planning Time'] = df_temp['First Attempt Planning Time'].astype(int)\n",
    "df_temp['Query'] = df_temp.apply(lambda row: str(int(row.Query)), axis=1)\n",
    "df_temp['Group + Language'] = df_temp.apply(lambda row: row.groupnum + \" \" + row.language, axis = 1) \n",
    "\n",
    "g = sns.catplot(\n",
    "    kind='box',data = df_temp.sort_values(by=['groupnum', 'step']), \n",
    "    x = 'Query', \n",
    "    y = 'First Attempt Planning Time', \n",
    "    hue = 'Group + Language', \n",
    "    orient = 'v',\n",
    "    aspect = 2,\n",
    "    height = 6,\n",
    "    legend = True\n",
    ")\n",
    "\n",
    "g.set_axis_labels(\"\", \"First Attempt Planning Time\", fontsize='large')\n",
    "g.set(title = \"Group 1: SpeakQL first, Group 2: SQL first\")"
   ]
  },
  {
   "cell_type": "markdown",
   "id": "40007143",
   "metadata": {
    "slideshow": {
     "slide_type": "subslide"
    }
   },
   "source": [
    "#### Comparison between those who used unbundling, and those who didn't\n",
    "\n",
    "- When we distinguish between SpeakQL attempts where unbundling was used, we see that there is a more even spread between groups 1 and 2 and their dialects. Participants who avoided unbundling in the second half (SQL first group) performed better than participants who used unbundling.\n",
    "- We think this is due to them essentially re-stating the same SQL query from the first half"
   ]
  },
  {
   "cell_type": "code",
   "execution_count": 21,
   "id": "6a6b8bcd",
   "metadata": {
    "slideshow": {
     "slide_type": "fragment"
    }
   },
   "outputs": [
    {
     "data": {
      "text/plain": [
       "<seaborn.axisgrid.FacetGrid at 0x1aa30700bb0>"
      ]
     },
     "execution_count": 21,
     "metadata": {},
     "output_type": "execute_result"
    },
    {
     "data": {
      "image/png": "[encoded data removed]",
      "text/plain": [
       "<Figure size 1498.75x432 with 1 Axes>"
      ]
     },
     "metadata": {
      "needs_background": "light"
     },
     "output_type": "display_data"
    }
   ],
   "source": [
    "df_temp = df.rename(columns={\n",
    "    'first_pt': 'First Attempt Planning Time',\n",
    "    'relative_step': 'Query'\n",
    "})\n",
    "df_temp['First Attempt Planning Time'] = df_temp['First Attempt Planning Time'].astype(int)\n",
    "df_temp['query_int'] = df_temp.Query\n",
    "df_temp['Query'] = df_temp.apply(lambda row: str(int(row.Query)), axis=1)\n",
    "df_temp['Group + Language + Used Unbundling'] = df_temp.apply(lambda row: row.groupnum + \" \" + row.language + \" \" + str(row.used_unbundling), axis = 1) \n",
    "\n",
    "g = sns.catplot(\n",
    "    kind='box',\n",
    "    data = df_temp.sort_values(by=['groupnum', 'step']).query(\"query_int > 3\"), \n",
    "    x = 'Query', \n",
    "    y = 'First Attempt Planning Time', \n",
    "    hue = 'Group + Language + Used Unbundling', \n",
    "    orient = 'v',\n",
    "    aspect = 3,\n",
    "    height = 6,\n",
    "    legend = True\n",
    ")\n",
    "\n",
    "g.set_axis_labels(\"\", \"First Attempt Planning Time\", fontsize='large')\n",
    "g.set(title = \"Group 1: SpeakQL first, Group 2: SQL first\")"
   ]
  },
  {
   "cell_type": "markdown",
   "id": "a5947422",
   "metadata": {
    "slideshow": {
     "slide_type": "slide"
    }
   },
   "source": [
    "### Discussion\n",
    "\n",
    "#### Some Ideas:\n",
    "- Evaluate only one feature: Unbundling\n",
    "- Make unbundling usage mandator\n",
    "- Switch to in-person to eliminate covert behaviors\n",
    "- Spread session apart by several days to facilitate \"unlearning\""
   ]
  }
 ],
 "metadata": {
  "celltoolbar": "Slideshow",
  "kernelspec": {
   "display_name": "Python 3",
   "language": "python",
   "name": "python3"
  },
  "language_info": {
   "codemirror_mode": {
    "name": "ipython",
    "version": 3
   },
   "file_extension": ".py",
   "mimetype": "text/x-python",
   "name": "python",
   "nbconvert_exporter": "python",
   "pygments_lexer": "ipython3",
   "version": "3.8.8"
  }
 },
 "nbformat": 4,
 "nbformat_minor": 5
}
