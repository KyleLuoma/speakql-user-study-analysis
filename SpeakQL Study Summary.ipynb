{
 "cells": [
  {
   "cell_type": "markdown",
   "id": "b0bb4290",
   "metadata": {
    "slideshow": {
     "slide_type": "slide"
    }
   },
   "source": [
    "## SpeakQL A/B User Study Overview and Discussion of Study Design Challenges\n",
    "\n",
    "#### SpeakQL\n",
    "SpeakQL is an extension of SQL syntax that is intented to make speech-driven querying more natural while retaining the benefit correctness by construction of a formal language.\n",
    "\n",
    "##### Features:\n",
    "- Synonyms (e.g. Get area from the room table)\n",
    "- Alternate ordering (e.g. From the room table get area)\n",
    "- Natural functions (e.g. What is the average of area in the room table)\n",
    "- Unbundling - feature allows specifying complex queries one table at a time.\n",
    "\n"
   ]
  },
  {
   "cell_type": "markdown",
   "id": "439e1b3b",
   "metadata": {
    "slideshow": {
     "slide_type": "slide"
    }
   },
   "source": [
    "### Study Design\n",
    "\n",
    "#### Objective: \n",
    "Compare SpeakQL dialect to SQL dialect in terms of planning time, total time, and number of attempts to form a correct query.\n",
    "\n",
    "#### Context:\n",
    "Online using Zoom and a custom-built user interface with audio recording and live speech-to-text transcription.\n",
    "\n",
    "#### Participants:\n",
    "- Gradudate and Undergraduate UCSD students from CSE and Business Analytics programs.\n",
    "- 23 Participants total (one dropped from data)\n",
    "\n",
    "#### Design Considerations:\n",
    "- Used counterbalancing to reduce learning effect.\n",
    "  - SQL first, then SpeakQL or SpeakQL first, then SQL\n",
    "- Practice session\n",
    "  - 3 queries in dialect 1, then repeat in dialect 2\n",
    "- Measured session\n",
    "  - 12 queries in dialect 1, then repeat in dialect 2\n",
    "- Compensation based on number of queries completed\n",
    "- Queries increased in complexity as study progressed.\n",
    "- SpeakQL feature usage was optional."
   ]
  },
  {
   "cell_type": "code",
   "execution_count": null,
   "id": "c2fd5f88",
   "metadata": {
    "slideshow": {
     "slide_type": "skip"
    }
   },
   "outputs": [],
   "source": [
    "import pandas as pd\n",
    "import seaborn as sns\n",
    "import numpy as np\n",
    "import scipy.stats as stats\n",
    "from scipy.stats import normaltest\n",
    "from scipy.stats import mannwhitneyu as mwu\n",
    "from scipy.stats import wilcoxon as wil\n",
    "from scipy.stats import ttest_ind\n",
    "from scipy.ndimage import median\n",
    "from scipy.ndimage import mean\n",
    "from IPython.display import display\n",
    "pd.options.display.float_format = '{:,.3f}'.format\n",
    "\n",
    "df = pd.read_excel(\n",
    "    './data/df/sample-distribution-and-tests-df.xlsx'\n",
    ")\n",
    "df = df.query(\"ispractice == 0\")\n",
    "df = df.query(\"idparticipant != 18\")\n",
    "df['relative_step'] = df.apply(\n",
    "    lambda row: row.idstep - 6 if row.idstep < 19 else row.step - 18, \n",
    "    axis = 1\n",
    ")\n",
    "df['second_half'] = df.apply(\n",
    "    lambda row: 0 if row.idstep <= 18 else 1,\n",
    "    axis = 1\n",
    ")"
   ]
  },
  {
   "cell_type": "markdown",
   "id": "afe749d0",
   "metadata": {
    "slideshow": {
     "slide_type": "slide"
    }
   },
   "source": [
    "### Results Summary\n",
    "\n",
    "#### Overall Distribution\n",
    "In aggregate, planning time showed a right tail distribution for both SpeakQL and SQL\n",
    "\n",
    "#### SpeakQL - First Attempt Planning Time:"
   ]
  },
  {
   "cell_type": "code",
   "execution_count": null,
   "id": "fac8d06c",
   "metadata": {
    "slideshow": {
     "slide_type": "fragment"
    }
   },
   "outputs": [],
   "source": [
    "df.query('language == \"speakql\"').first_pt.hist(bins = 30)"
   ]
  },
  {
   "cell_type": "markdown",
   "id": "e2a4dfc5",
   "metadata": {
    "slideshow": {
     "slide_type": "fragment"
    }
   },
   "source": [
    "#### SQL - First Attempt Planning Time:"
   ]
  },
  {
   "cell_type": "code",
   "execution_count": null,
   "id": "4eced00c",
   "metadata": {
    "slideshow": {
     "slide_type": "fragment"
    }
   },
   "outputs": [],
   "source": [
    "df.query('language == \"sql\"').first_pt.hist(bins = 30)"
   ]
  },
  {
   "cell_type": "markdown",
   "id": "801a85c9",
   "metadata": {
    "slideshow": {
     "slide_type": "slide"
    }
   },
   "source": [
    "### First Planning Time Distribution by query\n",
    "\n",
    "A Shapiro-Wilkes test of normality reveals that most distributions by query are not normal (query 10 is an exception)"
   ]
  },
  {
   "cell_type": "code",
   "execution_count": null,
   "id": "f126c6b9",
   "metadata": {
    "slideshow": {
     "slide_type": "skip"
    }
   },
   "outputs": [],
   "source": [
    "df.columns"
   ]
  },
  {
   "cell_type": "code",
   "execution_count": null,
   "id": "118a52cf",
   "metadata": {
    "slideshow": {
     "slide_type": "fragment"
    }
   },
   "outputs": [],
   "source": [
    "d = {\"Query\": [], \"Stat\": [], \"P\":[], \"Normal\": []}\n",
    "for i in range(1, 13):\n",
    "    stat, pval = stats.shapiro(df.query(\"relative_step == \" + str(i)).first_pt)\n",
    "    d[\"Query\"].append(i)\n",
    "    d[\"Stat\"].append(stat)\n",
    "    d[\"P\"].append(pval)\n",
    "    d[\"Normal\"].append(pval > 0.05)\n",
    "pd.DataFrame(data = d)"
   ]
  },
  {
   "cell_type": "code",
   "execution_count": null,
   "id": "9a0ce812",
   "metadata": {
    "slideshow": {
     "slide_type": "fragment"
    }
   },
   "outputs": [],
   "source": [
    "g = sns.FacetGrid(df, col='relative_step', col_wrap = 4, hue='language')\n",
    "g.map_dataframe(\n",
    "    sns.histplot, \n",
    "    'first_pt', \n",
    "    bins = 10, \n",
    "    discrete = False, \n",
    "    element = 'step',\n",
    "    legend = True\n",
    ")\n",
    "g.add_legend()"
   ]
  },
  {
   "cell_type": "markdown",
   "id": "ddcd3e03",
   "metadata": {
    "slideshow": {
     "slide_type": "slide"
    }
   },
   "source": [
    "### Number of AttemptsDistribution by query\n"
   ]
  },
  {
   "cell_type": "code",
   "execution_count": null,
   "id": "b7f9d8aa",
   "metadata": {
    "slideshow": {
     "slide_type": "fragment"
    }
   },
   "outputs": [],
   "source": [
    "d = {\"Query\": [], \"Stat\": [], \"P\":[], \"Normal\": []}\n",
    "for i in range(1, 13):\n",
    "    stat, pval = stats.shapiro(df.query(\"relative_step == \" + str(i)).attemptnum)\n",
    "    d[\"Query\"].append(i)\n",
    "    d[\"Stat\"].append(stat)\n",
    "    d[\"P\"].append(pval)\n",
    "    d[\"Normal\"].append(pval > 0.05)\n",
    "pd.DataFrame(data = d)"
   ]
  },
  {
   "cell_type": "code",
   "execution_count": null,
   "id": "7d39b789",
   "metadata": {
    "slideshow": {
     "slide_type": "fragment"
    }
   },
   "outputs": [],
   "source": [
    "g = sns.FacetGrid(df, col='relative_step', col_wrap = 4, hue='language')\n",
    "g.map_dataframe(\n",
    "    sns.histplot, \n",
    "    'attemptnum', \n",
    "    bins = 3, \n",
    "    discrete = True, \n",
    "    element = 'bars',\n",
    "    legend = True\n",
    ")\n",
    "g.add_legend()"
   ]
  },
  {
   "cell_type": "markdown",
   "id": "044bd1ef",
   "metadata": {
    "slideshow": {
     "slide_type": "slide"
    }
   },
   "source": [
    "### Mann-Whitney U-Test on Non-Parametric Data"
   ]
  },
  {
   "cell_type": "code",
   "execution_count": null,
   "id": "2dddf13a",
   "metadata": {
    "scrolled": false,
    "slideshow": {
     "slide_type": "skip"
    }
   },
   "outputs": [],
   "source": [
    "\n",
    "dep_vars = ['first_pt', 'tot_tt', 'attemptnum']\n",
    "result_dfs = []\n",
    "# dep_vars = ['recording_time']\n",
    "df_sql = df.query(\"language == 'sql'\")\n",
    "df_speakql = df.query(\"language == 'speakql'\")\n",
    "\n",
    "for dep_var in dep_vars:\n",
    "    mwu_results = {}\n",
    "    for idquery in df.idquery.unique():\n",
    "        subset_sql = df_sql.where(df_sql.idquery == idquery).dropna(how = 'all')\n",
    "        subset_speakql = df_speakql.where(df_speakql.idquery == idquery).dropna(how = 'all')\n",
    "        mwu_results[(dep_var, idquery)] = {\n",
    "            'u_test_pval' : mwu(\n",
    "            x = subset_sql[dep_var],\n",
    "            y = df_speakql.where(df_speakql.idquery == idquery).dropna(how = 'all')[dep_var]\n",
    "            )[1],\n",
    "            'median_sql' : subset_sql[dep_var].median(),\n",
    "            'median_speakql' : subset_speakql[dep_var].median()\n",
    "        }\n",
    "    result_dfs.append(pd.DataFrame(mwu_results))\n"
   ]
  },
  {
   "cell_type": "code",
   "execution_count": null,
   "id": "a3246da0",
   "metadata": {
    "scrolled": false,
    "slideshow": {
     "slide_type": "subslide"
    }
   },
   "outputs": [],
   "source": [
    "for result in result_dfs:\n",
    "    display(result)"
   ]
  },
  {
   "cell_type": "markdown",
   "id": "903bbc31",
   "metadata": {
    "slideshow": {
     "slide_type": "subslide"
    }
   },
   "source": [
    "#### Box and Whisker plots of performance by dialect\n"
   ]
  },
  {
   "cell_type": "code",
   "execution_count": null,
   "id": "3696c00c",
   "metadata": {
    "slideshow": {
     "slide_type": "skip"
    }
   },
   "outputs": [],
   "source": [
    "df_temp = df.rename(columns={\n",
    "    'first_pt': 'First Attempt Planning Time',\n",
    "    'relative_step': 'Query'\n",
    "})\n",
    "df_temp['Query'] = df_temp.apply(lambda row: str(int(row.Query)), axis=1)\n",
    "df_temp['language'] = df_temp.apply(lambda row: {'sql': 'sql (L)', 'speakql': 'speakql (R)'}[row.language], axis=1)"
   ]
  },
  {
   "cell_type": "code",
   "execution_count": null,
   "id": "60a97ab0",
   "metadata": {
    "slideshow": {
     "slide_type": "fragment"
    }
   },
   "outputs": [],
   "source": [
    "for var in ['First Attempt Planning Time', 'tot_tt']:\n",
    "    g = sns.catplot(\n",
    "        kind='box',data = df_temp, \n",
    "        x = 'Query', \n",
    "        y = var, \n",
    "        hue = 'language', \n",
    "        orient = 'v',\n",
    "        aspect = 2.4,\n",
    "        height = 3\n",
    "    )\n",
    "    g.set_axis_labels(\"\", var, fontsize='large')\n",
    "    hatches = ['.', '+']"
   ]
  },
  {
   "cell_type": "code",
   "execution_count": null,
   "id": "6b868928",
   "metadata": {
    "slideshow": {
     "slide_type": "skip"
    }
   },
   "outputs": [],
   "source": [
    "attempt_legend = {1: \"1 *\", 2: \"2 +\", 3: \"3 X\"}\n",
    "\n",
    "df_temp['Number of Attempts'] = df.apply(lambda row: attempt_legend[int(row.attemptnum)], axis = 1)\n",
    "df_temp['Dialect'] = df.apply(lambda row: 'SQL' if row.language == 'sql' else 'SPK', axis = 1)\n",
    "df_temp['Q'] = df.apply(lambda row: str(int(row.relative_step)), axis = 1)\n",
    "hatches = ['.', '.', '+', '+', 'x', 'x']"
   ]
  },
  {
   "cell_type": "code",
   "execution_count": null,
   "id": "ebbd88b0",
   "metadata": {
    "slideshow": {
     "slide_type": "fragment"
    }
   },
   "outputs": [],
   "source": [
    "g = sns.displot(\n",
    "    df_temp, \n",
    "    x='Dialect', \n",
    "    col='Q', \n",
    "    hue='Number of Attempts', \n",
    "    hue_order=['3 X', '2 +', '1 *'],\n",
    "    col_wrap=12,\n",
    "    height=2.5,\n",
    "    aspect=.5,\n",
    "    kind='hist',\n",
    "    multiple='stack',\n",
    "    stat='count'\n",
    ")\n",
    "g.set_axis_labels(\"\")\n",
    "g.set_titles(\"Q\" + \"{col_name}\")\n"
   ]
  },
  {
   "cell_type": "markdown",
   "id": "55c1ac0e",
   "metadata": {
    "slideshow": {
     "slide_type": "slide"
    }
   },
   "source": [
    "### Group Effect Analysis\n",
    "- We used counterbalancing between two groups to offset learning effect.\n",
    "- Participants were randomly assigned to either group 1 or group 2\n",
    "  - Group 1: SpeakQL first, then SQL\n",
    "  - Group 2: SQL first, then SpeakQL"
   ]
  },
  {
   "cell_type": "markdown",
   "id": "7cdcd712",
   "metadata": {
    "slideshow": {
     "slide_type": "subslide"
    }
   },
   "source": [
    "#### Feature Usage by Group\n",
    "Feature usage was optional; and we observed different usage rates between groups.\n",
    "  - Participants in group 1 (SpeakQL First) used unbundling much more frequently\n",
    "  - Participants in group 2 (SQL First) used other features slightly more frequently"
   ]
  },
  {
   "cell_type": "code",
   "execution_count": null,
   "id": "8ddb1a54",
   "metadata": {
    "slideshow": {
     "slide_type": "skip"
    }
   },
   "outputs": [],
   "source": [
    "used_df = pd.melt(\n",
    "    df, id_vars =['groupnum', 'idparticipant', 'idsession', 'idstep'], \n",
    "    value_vars = [\n",
    "        'used_synonyms',\n",
    "        'used_expression_ordering',\n",
    "        'used_mod_ordering',\n",
    "        'used_natural_functions',\n",
    "        'used_unbundling'\n",
    "    ]\n",
    ")\n",
    "\n",
    "possible_df = pd.melt(\n",
    "    df, id_vars =['groupnum', 'idparticipant', 'idsession', 'idstep'], \n",
    "    value_vars = [\n",
    "        'synonyms_possible',\n",
    "        'expression_ordering_possible',\n",
    "        'mod_ordering_possible',\n",
    "        'natural_functions_possible',\n",
    "        'unbundling_possible'\n",
    "    ]\n",
    ")\n",
    "\n",
    "used_sum = used_df[['groupnum', 'variable', 'value']].groupby(\n",
    "    ['groupnum', 'variable']\n",
    ").sum()\n",
    "\n",
    "possible_sum = possible_df[['groupnum', 'variable', 'value']].groupby(\n",
    "    ['groupnum', 'variable']\n",
    ").sum()\n",
    "\n",
    "sum_compare = used_sum\n",
    "sum_compare = sum_compare.rename(columns = {'value' : 'used'}).reset_index()\n",
    "sum_compare['possible'] = possible_sum.reset_index().value\n",
    "\n",
    "sum_compare['perc_usage'] = sum_compare.used / sum_compare.possible\n"
   ]
  },
  {
   "cell_type": "code",
   "execution_count": null,
   "id": "f2a70b07",
   "metadata": {
    "slideshow": {
     "slide_type": "fragment"
    }
   },
   "outputs": [],
   "source": [
    "g = sns.catplot(\n",
    "    data = sum_compare,\n",
    "    kind = 'bar',\n",
    "    x = 'variable',\n",
    "    y = 'perc_usage',\n",
    "    hue = 'groupnum'\n",
    ")\n",
    "g.set_xticklabels(rotation = 45)\n",
    "display(sum_compare.sort_values(by=['variable']))"
   ]
  },
  {
   "cell_type": "markdown",
   "id": "11a052b6",
   "metadata": {
    "slideshow": {
     "slide_type": "subslide"
    }
   },
   "source": [
    "#### Group Median and Distribution Observations by Dependent Variable"
   ]
  },
  {
   "cell_type": "code",
   "execution_count": null,
   "id": "bc33bcd3",
   "metadata": {
    "slideshow": {
     "slide_type": "fragment"
    }
   },
   "outputs": [],
   "source": [
    "g = sns.catplot(x='groupnum', y='first_pt', data=df.sort_values(by='groupnum'), kind='box')\n",
    "g3 = sns.catplot(x='groupnum', y='total_time', data=df.sort_values(by='groupnum'), kind='box')\n",
    "g4 = sns.catplot(x='groupnum', y='attemptnum', data=df.sort_values(by='groupnum'), kind='box')\n"
   ]
  },
  {
   "cell_type": "markdown",
   "id": "92b34b10",
   "metadata": {
    "slideshow": {
     "slide_type": "subslide"
    }
   },
   "source": [
    "#### Observation of asymmetric learning\n",
    "The following charts show performance by language between the first and second half of the experiment.\n",
    "\n",
    "We can see that for Group 1 (SpeakQL first), their performance in the second half (using SQL) experienced less improvement than participants in Group 2 (SQL first).\n",
    "\n",
    "This observation suggests some sort of asymmetry in our data."
   ]
  },
  {
   "cell_type": "code",
   "execution_count": null,
   "id": "99093171",
   "metadata": {
    "slideshow": {
     "slide_type": "fragment"
    }
   },
   "outputs": [],
   "source": [
    "sns.lmplot(data = df,\n",
    "           x = 'second_half',\n",
    "           y = 'first_pt',\n",
    "           hue = 'language'\n",
    "          )\n",
    "\n",
    "sns.lmplot(data = df,\n",
    "           x = 'second_half',\n",
    "           y = 'attemptnum',\n",
    "           hue = 'language'\n",
    "          )\n",
    "\n",
    "sns.lmplot(data = df,\n",
    "           x = 'second_half',\n",
    "           y = 'tot_tt',\n",
    "           hue = 'language'\n",
    "          )"
   ]
  },
  {
   "cell_type": "markdown",
   "id": "7f3932b3",
   "metadata": {
    "slideshow": {
     "slide_type": "subslide"
    }
   },
   "source": [
    "#### Reconsidering Performance Data based on Groups"
   ]
  },
  {
   "cell_type": "markdown",
   "id": "21688a9a",
   "metadata": {
    "slideshow": {
     "slide_type": "fragment"
    }
   },
   "source": [
    "- Overall, the SpeakQL-first group performed more slowly in their first dialect (SpeakQL) than the SQL-first group performed in their first dialect (SQL). This suggests a SpeakQL learning curve.\n",
    "\n",
    "- Strangely, we observe the opposite in the second dialects. The SpeakQL-first group performed more slowly in their second dialect (SQL), than the SQL-first group performed using SpeakQL."
   ]
  },
  {
   "cell_type": "code",
   "execution_count": null,
   "id": "9df0f06f",
   "metadata": {
    "slideshow": {
     "slide_type": "fragment"
    }
   },
   "outputs": [],
   "source": [
    "df_temp = df.rename(columns={\n",
    "    'tot_tt': 'Total Time',\n",
    "    'relative_step': 'Query'\n",
    "})\n",
    "df_temp['Total Time'] = df_temp['Total Time'].astype(int)\n",
    "df_temp['Query'] = df_temp.apply(lambda row: str(int(row.Query)), axis=1)\n",
    "df_temp['Group + Language'] = df_temp.apply(lambda row: row.groupnum + \" \" + row.language, axis = 1) \n",
    "\n",
    "g = sns.catplot(\n",
    "    kind='box',data = df_temp.sort_values(by=['groupnum', 'step']), \n",
    "    x = 'Query', \n",
    "    y = 'Total Time', \n",
    "    hue = 'Group + Language', \n",
    "    orient = 'v',\n",
    "    aspect = 2,\n",
    "    height = 6,\n",
    "    legend = True\n",
    ")\n",
    "\n",
    "g.set_axis_labels(\"\", \"Total Time\", fontsize='large')\n",
    "g.set(title = \"Group 1: SpeakQL first, Group 2: SQL first\")"
   ]
  },
  {
   "cell_type": "markdown",
   "id": "e3108804",
   "metadata": {
    "slideshow": {
     "slide_type": "fragment"
    }
   },
   "source": [
    "We observe this disparity in both first attempt planning time, and total time."
   ]
  },
  {
   "cell_type": "code",
   "execution_count": null,
   "id": "0bf1d2bb",
   "metadata": {
    "slideshow": {
     "slide_type": "fragment"
    }
   },
   "outputs": [],
   "source": [
    "df_temp = df.rename(columns={\n",
    "    'first_pt': 'First Attempt Planning Time',\n",
    "    'relative_step': 'Query'\n",
    "})\n",
    "df_temp['First Attempt Planning Time'] = df_temp['First Attempt Planning Time'].astype(int)\n",
    "df_temp['Query'] = df_temp.apply(lambda row: str(int(row.Query)), axis=1)\n",
    "df_temp['Group + Language'] = df_temp.apply(lambda row: row.groupnum + \" \" + row.language, axis = 1) \n",
    "\n",
    "g = sns.catplot(\n",
    "    kind='box',data = df_temp.sort_values(by=['groupnum', 'step']), \n",
    "    x = 'Query', \n",
    "    y = 'First Attempt Planning Time', \n",
    "    hue = 'Group + Language', \n",
    "    orient = 'v',\n",
    "    aspect = 2,\n",
    "    height = 6,\n",
    "    legend = True\n",
    ")\n",
    "\n",
    "g.set_axis_labels(\"\", \"First Attempt Planning Time\", fontsize='large')\n",
    "g.set(title = \"Group 1: SpeakQL first, Group 2: SQL first\")"
   ]
  },
  {
   "cell_type": "markdown",
   "id": "878f3577",
   "metadata": {
    "slideshow": {
     "slide_type": "subslide"
    }
   },
   "source": [
    "#### Comparison between those who used unbundling, and those who didn't\n",
    "\n",
    "- When we distinguish between SpeakQL attempts where unbundling was used, we see that there is a more even spread between groups 1 and 2 and their dialects. Participants who avoided unbundling in the second half (SQL first group) performed better than participants who used unbundling.\n",
    "- We think this is due to them essentially re-stating the same SQL query from the first half"
   ]
  },
  {
   "cell_type": "code",
   "execution_count": null,
   "id": "034f4bcf",
   "metadata": {
    "slideshow": {
     "slide_type": "fragment"
    }
   },
   "outputs": [],
   "source": [
    "df_temp = df.rename(columns={\n",
    "    'first_pt': 'First Attempt Planning Time',\n",
    "    'relative_step': 'Query'\n",
    "})\n",
    "df_temp['First Attempt Planning Time'] = df_temp['First Attempt Planning Time'].astype(int)\n",
    "df_temp['query_int'] = df_temp.Query\n",
    "df_temp['Query'] = df_temp.apply(lambda row: str(int(row.Query)), axis=1)\n",
    "df_temp['Group + Language + Used Unbundling'] = df_temp.apply(lambda row: row.groupnum + \" \" + row.language + \" \" + str(row.used_unbundling), axis = 1) \n",
    "\n",
    "g = sns.catplot(\n",
    "    kind='box',\n",
    "    data = df_temp.sort_values(by=['groupnum', 'step']).query(\"query_int > 3\"), \n",
    "    x = 'Query', \n",
    "    y = 'First Attempt Planning Time', \n",
    "    hue = 'Group + Language + Used Unbundling', \n",
    "    orient = 'v',\n",
    "    aspect = 3,\n",
    "    height = 6,\n",
    "    legend = True\n",
    ")\n",
    "\n",
    "g.set_axis_labels(\"\", \"First Attempt Planning Time\", fontsize='large')\n",
    "g.set(title = \"Group 1: SpeakQL first, Group 2: SQL first\")"
   ]
  },
  {
   "cell_type": "markdown",
   "id": "5b638f97",
   "metadata": {
    "slideshow": {
     "slide_type": "slide"
    }
   },
   "source": [
    "### Discussion\n",
    "\n",
    "#### Some Ideas:\n",
    "- Evaluate only one feature: Unbundling\n",
    "- Make unbundling usage mandator\n",
    "- Switch to in-person to eliminate covert behaviors\n",
    "- Spread session apart by several days to facilitate \"unlearning\""
   ]
  }
 ],
 "metadata": {
  "celltoolbar": "Slideshow",
  "kernelspec": {
   "display_name": "Python 3",
   "language": "python",
   "name": "python3"
  },
  "language_info": {
   "codemirror_mode": {
    "name": "ipython",
    "version": 3
   },
   "file_extension": ".py",
   "mimetype": "text/x-python",
   "name": "python",
   "nbconvert_exporter": "python",
   "pygments_lexer": "ipython3",
   "version": "3.8.8"
  }
 },
 "nbformat": 4,
 "nbformat_minor": 5
}
