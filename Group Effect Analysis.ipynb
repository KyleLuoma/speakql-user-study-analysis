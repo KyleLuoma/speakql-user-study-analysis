{
 "cells": [
  {
   "cell_type": "code",
   "execution_count": 2,
   "id": "b10aa641",
   "metadata": {},
   "outputs": [
    {
     "name": "stdout",
     "output_type": "stream",
     "text": [
      "Index(['Unnamed: 0', 'idparticipant', 'idsession', 'idattemptsubmission',\n",
      "       'idquery', 'idstep', 'attemptnum', 'total_time', 'recording_time',\n",
      "       'planning_time', 'tot_pt', 'first_pt', 'tot_tt', 'groupnum', 'step',\n",
      "       'speakql_first', 'language', 'ispractice', 'correct', 'usedspeakql',\n",
      "       'complexity', 'normalized', 'is_complex', 'num_mods', 'num_joins',\n",
      "       'num_funcs', 'num_proj', 'num_tables', 'num_selections',\n",
      "       'used_unbundling', 'unbundling_possible', 'used_natural_functions',\n",
      "       'natural_functions_possible', 'used_mod_ordering',\n",
      "       'mod_ordering_possible', 'used_expression_ordering',\n",
      "       'expression_ordering_possible', 'used_synonyms', 'synonyms_possible',\n",
      "       'relative_step', 'second_half'],\n",
      "      dtype='object')\n"
     ]
    },
    {
     "data": {
      "text/html": [
       "<div>\n",
       "<style scoped>\n",
       "    .dataframe tbody tr th:only-of-type {\n",
       "        vertical-align: middle;\n",
       "    }\n",
       "\n",
       "    .dataframe tbody tr th {\n",
       "        vertical-align: top;\n",
       "    }\n",
       "\n",
       "    .dataframe thead th {\n",
       "        text-align: right;\n",
       "    }\n",
       "</style>\n",
       "<table border=\"1\" class=\"dataframe\">\n",
       "  <thead>\n",
       "    <tr style=\"text-align: right;\">\n",
       "      <th></th>\n",
       "      <th>Unnamed: 0</th>\n",
       "      <th>idparticipant</th>\n",
       "      <th>idsession</th>\n",
       "      <th>idattemptsubmission</th>\n",
       "      <th>idquery</th>\n",
       "      <th>idstep</th>\n",
       "      <th>attemptnum</th>\n",
       "      <th>total_time</th>\n",
       "      <th>recording_time</th>\n",
       "      <th>planning_time</th>\n",
       "      <th>...</th>\n",
       "      <th>used_natural_functions</th>\n",
       "      <th>natural_functions_possible</th>\n",
       "      <th>used_mod_ordering</th>\n",
       "      <th>mod_ordering_possible</th>\n",
       "      <th>used_expression_ordering</th>\n",
       "      <th>expression_ordering_possible</th>\n",
       "      <th>used_synonyms</th>\n",
       "      <th>synonyms_possible</th>\n",
       "      <th>relative_step</th>\n",
       "      <th>second_half</th>\n",
       "    </tr>\n",
       "  </thead>\n",
       "  <tbody>\n",
       "    <tr>\n",
       "      <th>135</th>\n",
       "      <td>135.0</td>\n",
       "      <td>2.0</td>\n",
       "      <td>41.0</td>\n",
       "      <td>285.0</td>\n",
       "      <td>2.0</td>\n",
       "      <td>7.0</td>\n",
       "      <td>1.0</td>\n",
       "      <td>41.0</td>\n",
       "      <td>7.0</td>\n",
       "      <td>33.0</td>\n",
       "      <td>...</td>\n",
       "      <td>NaN</td>\n",
       "      <td>NaN</td>\n",
       "      <td>NaN</td>\n",
       "      <td>NaN</td>\n",
       "      <td>NaN</td>\n",
       "      <td>NaN</td>\n",
       "      <td>NaN</td>\n",
       "      <td>NaN</td>\n",
       "      <td>1.0</td>\n",
       "      <td>0</td>\n",
       "    </tr>\n",
       "    <tr>\n",
       "      <th>136</th>\n",
       "      <td>136.0</td>\n",
       "      <td>4.0</td>\n",
       "      <td>45.0</td>\n",
       "      <td>397.0</td>\n",
       "      <td>2.0</td>\n",
       "      <td>7.0</td>\n",
       "      <td>1.0</td>\n",
       "      <td>29.0</td>\n",
       "      <td>9.0</td>\n",
       "      <td>20.0</td>\n",
       "      <td>...</td>\n",
       "      <td>NaN</td>\n",
       "      <td>NaN</td>\n",
       "      <td>NaN</td>\n",
       "      <td>NaN</td>\n",
       "      <td>NaN</td>\n",
       "      <td>NaN</td>\n",
       "      <td>NaN</td>\n",
       "      <td>NaN</td>\n",
       "      <td>1.0</td>\n",
       "      <td>0</td>\n",
       "    </tr>\n",
       "    <tr>\n",
       "      <th>137</th>\n",
       "      <td>137.0</td>\n",
       "      <td>8.0</td>\n",
       "      <td>49.0</td>\n",
       "      <td>555.0</td>\n",
       "      <td>2.0</td>\n",
       "      <td>7.0</td>\n",
       "      <td>1.0</td>\n",
       "      <td>17.0</td>\n",
       "      <td>6.0</td>\n",
       "      <td>11.0</td>\n",
       "      <td>...</td>\n",
       "      <td>NaN</td>\n",
       "      <td>NaN</td>\n",
       "      <td>NaN</td>\n",
       "      <td>NaN</td>\n",
       "      <td>NaN</td>\n",
       "      <td>NaN</td>\n",
       "      <td>NaN</td>\n",
       "      <td>NaN</td>\n",
       "      <td>1.0</td>\n",
       "      <td>0</td>\n",
       "    </tr>\n",
       "    <tr>\n",
       "      <th>138</th>\n",
       "      <td>138.0</td>\n",
       "      <td>6.0</td>\n",
       "      <td>47.0</td>\n",
       "      <td>634.0</td>\n",
       "      <td>2.0</td>\n",
       "      <td>7.0</td>\n",
       "      <td>1.0</td>\n",
       "      <td>49.0</td>\n",
       "      <td>9.0</td>\n",
       "      <td>41.0</td>\n",
       "      <td>...</td>\n",
       "      <td>NaN</td>\n",
       "      <td>NaN</td>\n",
       "      <td>NaN</td>\n",
       "      <td>NaN</td>\n",
       "      <td>NaN</td>\n",
       "      <td>NaN</td>\n",
       "      <td>NaN</td>\n",
       "      <td>NaN</td>\n",
       "      <td>1.0</td>\n",
       "      <td>0</td>\n",
       "    </tr>\n",
       "    <tr>\n",
       "      <th>139</th>\n",
       "      <td>139.0</td>\n",
       "      <td>10.0</td>\n",
       "      <td>51.0</td>\n",
       "      <td>677.0</td>\n",
       "      <td>2.0</td>\n",
       "      <td>7.0</td>\n",
       "      <td>1.0</td>\n",
       "      <td>65.0</td>\n",
       "      <td>6.0</td>\n",
       "      <td>58.0</td>\n",
       "      <td>...</td>\n",
       "      <td>NaN</td>\n",
       "      <td>NaN</td>\n",
       "      <td>NaN</td>\n",
       "      <td>NaN</td>\n",
       "      <td>NaN</td>\n",
       "      <td>NaN</td>\n",
       "      <td>NaN</td>\n",
       "      <td>NaN</td>\n",
       "      <td>1.0</td>\n",
       "      <td>0</td>\n",
       "    </tr>\n",
       "    <tr>\n",
       "      <th>...</th>\n",
       "      <td>...</td>\n",
       "      <td>...</td>\n",
       "      <td>...</td>\n",
       "      <td>...</td>\n",
       "      <td>...</td>\n",
       "      <td>...</td>\n",
       "      <td>...</td>\n",
       "      <td>...</td>\n",
       "      <td>...</td>\n",
       "      <td>...</td>\n",
       "      <td>...</td>\n",
       "      <td>...</td>\n",
       "      <td>...</td>\n",
       "      <td>...</td>\n",
       "      <td>...</td>\n",
       "      <td>...</td>\n",
       "      <td>...</td>\n",
       "      <td>...</td>\n",
       "      <td>...</td>\n",
       "      <td>...</td>\n",
       "      <td>...</td>\n",
       "    </tr>\n",
       "    <tr>\n",
       "      <th>658</th>\n",
       "      <td>658.0</td>\n",
       "      <td>2.0</td>\n",
       "      <td>41.0</td>\n",
       "      <td>322.0</td>\n",
       "      <td>17.0</td>\n",
       "      <td>30.0</td>\n",
       "      <td>2.0</td>\n",
       "      <td>55.0</td>\n",
       "      <td>52.0</td>\n",
       "      <td>3.0</td>\n",
       "      <td>...</td>\n",
       "      <td>0.0</td>\n",
       "      <td>0.0</td>\n",
       "      <td>0.0</td>\n",
       "      <td>0.0</td>\n",
       "      <td>1.0</td>\n",
       "      <td>1.0</td>\n",
       "      <td>1.0</td>\n",
       "      <td>1.0</td>\n",
       "      <td>12.0</td>\n",
       "      <td>1</td>\n",
       "    </tr>\n",
       "    <tr>\n",
       "      <th>659</th>\n",
       "      <td>659.0</td>\n",
       "      <td>4.0</td>\n",
       "      <td>45.0</td>\n",
       "      <td>433.0</td>\n",
       "      <td>17.0</td>\n",
       "      <td>30.0</td>\n",
       "      <td>2.0</td>\n",
       "      <td>101.0</td>\n",
       "      <td>90.0</td>\n",
       "      <td>11.0</td>\n",
       "      <td>...</td>\n",
       "      <td>0.0</td>\n",
       "      <td>0.0</td>\n",
       "      <td>0.0</td>\n",
       "      <td>0.0</td>\n",
       "      <td>0.0</td>\n",
       "      <td>1.0</td>\n",
       "      <td>0.0</td>\n",
       "      <td>1.0</td>\n",
       "      <td>12.0</td>\n",
       "      <td>1</td>\n",
       "    </tr>\n",
       "    <tr>\n",
       "      <th>660</th>\n",
       "      <td>660.0</td>\n",
       "      <td>6.0</td>\n",
       "      <td>47.0</td>\n",
       "      <td>668.0</td>\n",
       "      <td>17.0</td>\n",
       "      <td>30.0</td>\n",
       "      <td>2.0</td>\n",
       "      <td>118.0</td>\n",
       "      <td>109.0</td>\n",
       "      <td>9.0</td>\n",
       "      <td>...</td>\n",
       "      <td>1.0</td>\n",
       "      <td>1.0</td>\n",
       "      <td>0.0</td>\n",
       "      <td>1.0</td>\n",
       "      <td>0.0</td>\n",
       "      <td>1.0</td>\n",
       "      <td>1.0</td>\n",
       "      <td>1.0</td>\n",
       "      <td>12.0</td>\n",
       "      <td>1</td>\n",
       "    </tr>\n",
       "    <tr>\n",
       "      <th>661</th>\n",
       "      <td>661.0</td>\n",
       "      <td>6.0</td>\n",
       "      <td>47.0</td>\n",
       "      <td>668.0</td>\n",
       "      <td>17.0</td>\n",
       "      <td>30.0</td>\n",
       "      <td>2.0</td>\n",
       "      <td>118.0</td>\n",
       "      <td>109.0</td>\n",
       "      <td>9.0</td>\n",
       "      <td>...</td>\n",
       "      <td>1.0</td>\n",
       "      <td>0.0</td>\n",
       "      <td>0.0</td>\n",
       "      <td>0.0</td>\n",
       "      <td>0.0</td>\n",
       "      <td>1.0</td>\n",
       "      <td>1.0</td>\n",
       "      <td>1.0</td>\n",
       "      <td>12.0</td>\n",
       "      <td>1</td>\n",
       "    </tr>\n",
       "    <tr>\n",
       "      <th>662</th>\n",
       "      <td>662.0</td>\n",
       "      <td>16.0</td>\n",
       "      <td>57.0</td>\n",
       "      <td>986.0</td>\n",
       "      <td>17.0</td>\n",
       "      <td>30.0</td>\n",
       "      <td>2.0</td>\n",
       "      <td>85.0</td>\n",
       "      <td>81.0</td>\n",
       "      <td>4.0</td>\n",
       "      <td>...</td>\n",
       "      <td>0.0</td>\n",
       "      <td>0.0</td>\n",
       "      <td>0.0</td>\n",
       "      <td>0.0</td>\n",
       "      <td>0.0</td>\n",
       "      <td>1.0</td>\n",
       "      <td>0.0</td>\n",
       "      <td>1.0</td>\n",
       "      <td>12.0</td>\n",
       "      <td>1</td>\n",
       "    </tr>\n",
       "  </tbody>\n",
       "</table>\n",
       "<p>526 rows × 41 columns</p>\n",
       "</div>"
      ],
      "text/plain": [
       "     Unnamed: 0  idparticipant  idsession  idattemptsubmission  idquery  \\\n",
       "135       135.0            2.0       41.0                285.0      2.0   \n",
       "136       136.0            4.0       45.0                397.0      2.0   \n",
       "137       137.0            8.0       49.0                555.0      2.0   \n",
       "138       138.0            6.0       47.0                634.0      2.0   \n",
       "139       139.0           10.0       51.0                677.0      2.0   \n",
       "..          ...            ...        ...                  ...      ...   \n",
       "658       658.0            2.0       41.0                322.0     17.0   \n",
       "659       659.0            4.0       45.0                433.0     17.0   \n",
       "660       660.0            6.0       47.0                668.0     17.0   \n",
       "661       661.0            6.0       47.0                668.0     17.0   \n",
       "662       662.0           16.0       57.0                986.0     17.0   \n",
       "\n",
       "     idstep  attemptnum  total_time  recording_time  planning_time  ...  \\\n",
       "135     7.0         1.0        41.0             7.0           33.0  ...   \n",
       "136     7.0         1.0        29.0             9.0           20.0  ...   \n",
       "137     7.0         1.0        17.0             6.0           11.0  ...   \n",
       "138     7.0         1.0        49.0             9.0           41.0  ...   \n",
       "139     7.0         1.0        65.0             6.0           58.0  ...   \n",
       "..      ...         ...         ...             ...            ...  ...   \n",
       "658    30.0         2.0        55.0            52.0            3.0  ...   \n",
       "659    30.0         2.0       101.0            90.0           11.0  ...   \n",
       "660    30.0         2.0       118.0           109.0            9.0  ...   \n",
       "661    30.0         2.0       118.0           109.0            9.0  ...   \n",
       "662    30.0         2.0        85.0            81.0            4.0  ...   \n",
       "\n",
       "     used_natural_functions  natural_functions_possible  used_mod_ordering  \\\n",
       "135                     NaN                         NaN                NaN   \n",
       "136                     NaN                         NaN                NaN   \n",
       "137                     NaN                         NaN                NaN   \n",
       "138                     NaN                         NaN                NaN   \n",
       "139                     NaN                         NaN                NaN   \n",
       "..                      ...                         ...                ...   \n",
       "658                     0.0                         0.0                0.0   \n",
       "659                     0.0                         0.0                0.0   \n",
       "660                     1.0                         1.0                0.0   \n",
       "661                     1.0                         0.0                0.0   \n",
       "662                     0.0                         0.0                0.0   \n",
       "\n",
       "    mod_ordering_possible  used_expression_ordering  \\\n",
       "135                   NaN                       NaN   \n",
       "136                   NaN                       NaN   \n",
       "137                   NaN                       NaN   \n",
       "138                   NaN                       NaN   \n",
       "139                   NaN                       NaN   \n",
       "..                    ...                       ...   \n",
       "658                   0.0                       1.0   \n",
       "659                   0.0                       0.0   \n",
       "660                   1.0                       0.0   \n",
       "661                   0.0                       0.0   \n",
       "662                   0.0                       0.0   \n",
       "\n",
       "     expression_ordering_possible used_synonyms  synonyms_possible  \\\n",
       "135                           NaN           NaN                NaN   \n",
       "136                           NaN           NaN                NaN   \n",
       "137                           NaN           NaN                NaN   \n",
       "138                           NaN           NaN                NaN   \n",
       "139                           NaN           NaN                NaN   \n",
       "..                            ...           ...                ...   \n",
       "658                           1.0           1.0                1.0   \n",
       "659                           1.0           0.0                1.0   \n",
       "660                           1.0           1.0                1.0   \n",
       "661                           1.0           1.0                1.0   \n",
       "662                           1.0           0.0                1.0   \n",
       "\n",
       "     relative_step  second_half  \n",
       "135            1.0            0  \n",
       "136            1.0            0  \n",
       "137            1.0            0  \n",
       "138            1.0            0  \n",
       "139            1.0            0  \n",
       "..             ...          ...  \n",
       "658           12.0            1  \n",
       "659           12.0            1  \n",
       "660           12.0            1  \n",
       "661           12.0            1  \n",
       "662           12.0            1  \n",
       "\n",
       "[526 rows x 41 columns]"
      ]
     },
     "execution_count": 2,
     "metadata": {},
     "output_type": "execute_result"
    }
   ],
   "source": [
    "import lib.db_connector\n",
    "import pandas as pd\n",
    "import seaborn as sns\n",
    "\n",
    "#Set to true if database connection is not available\n",
    "local = True\n",
    "\n",
    "if not local:\n",
    "    db = lib.db_connector.DbConnector(db_name = 'speakql_study', verbose = False)\n",
    "    query = open(\"./queries/get_all_final_attempts_with_feature_usage.sql\").read()\n",
    "    final_attempts = db.do_single_select_query_into_dataframe(query)\n",
    "    final_attempts.to_excel('./data/df/group-effect-analysis-final-attempts.xlsx')\n",
    "else:\n",
    "    final_attempts = pd.read_excel('./data/df/group-effect-analysis-final-attempts.xlsx')\n",
    "\n",
    "final_attempts = final_attempts.where(final_attempts.tot_pt < 500).dropna(how = 'all')\n",
    "final_attempts = final_attempts.where(final_attempts.ispractice == 0).dropna(how = 'all')\n",
    "\n",
    "final_attempts['tot_pt'] = final_attempts['tot_pt'].astype('float')\n",
    "\n",
    "final_attempts['relative_step'] = final_attempts.apply(\n",
    "    lambda row: row.idstep - 6 if row.idstep < 19 else row.step - 18, axis = 1\n",
    ")\n",
    "\n",
    "final_attempts['second_half'] = final_attempts.apply(\n",
    "    lambda row: 0 if row.idstep <= 18 else 1,\n",
    "    axis = 1\n",
    ")\n",
    "\n",
    "print(final_attempts.columns)\n",
    "final_attempts"
   ]
  },
  {
   "cell_type": "markdown",
   "id": "509e9d51",
   "metadata": {},
   "source": [
    "### Comparison of means between groups\n",
    "Group 1: SpeakQL then SQL\n",
    "\n",
    "Group 2: SQL then SpeakQL\n",
    "\n",
    "Method based on Scott Mackenzi Human Computer Interaction Chapter 5, page 183: Group effects and asymmetric skill transfer."
   ]
  },
  {
   "cell_type": "code",
   "execution_count": 15,
   "id": "ba193ae4",
   "metadata": {},
   "outputs": [
    {
     "name": "stdout",
     "output_type": "stream",
     "text": [
      "7.735220836227046e-05 62.0 44.5\n"
     ]
    }
   ],
   "source": [
    "from scipy.stats import mannwhitneyu as mwu\n",
    "from scipy.ndimage import median\n",
    "\n",
    "p_val = mwu(\n",
    "    x = final_attempts.where(final_attempts.groupnum=='group1').dropna(how='all')['first_pt'],\n",
    "    y = final_attempts.where(final_attempts.groupnum=='group2').dropna(how='all')['first_pt']\n",
    ")[1]\n",
    "\n",
    "#Group 1 SpeakQL -> SQL\n",
    "#Group 2 SQL -> SpeakQL\n",
    "\n",
    "median_grp1 = median(final_attempts.where(final_attempts.groupnum=='group1').dropna(how='all')['first_pt'])\n",
    "median_grp2 = median(final_attempts.where(final_attempts.groupnum=='group2').dropna(how='all')['first_pt'])\n",
    "\n",
    "print(p_val, median_grp1, median_grp2)"
   ]
  },
  {
   "cell_type": "code",
   "execution_count": 13,
   "id": "36fce084",
   "metadata": {},
   "outputs": [
    {
     "name": "stdout",
     "output_type": "stream",
     "text": [
      "56.958955223880594 41.25581395348837\n"
     ]
    },
    {
     "data": {
      "image/png": "[encoded data removed]",
      "text/plain": [
       "<Figure size 360x360 with 1 Axes>"
      ]
     },
     "metadata": {
      "needs_background": "light"
     },
     "output_type": "display_data"
    },
    {
     "data": {
      "image/png": "[encoded data removed]",
      "text/plain": [
       "<Figure size 360x360 with 1 Axes>"
      ]
     },
     "metadata": {
      "needs_background": "light"
     },
     "output_type": "display_data"
    },
    {
     "data": {
      "image/png": "[encoded data removed]",
      "text/plain": [
       "<Figure size 360x360 with 1 Axes>"
      ]
     },
     "metadata": {
      "needs_background": "light"
     },
     "output_type": "display_data"
    },
    {
     "data": {
      "image/png": "[encoded data removed]",
      "text/plain": [
       "<Figure size 360x360 with 1 Axes>"
      ]
     },
     "metadata": {
      "needs_background": "light"
     },
     "output_type": "display_data"
    }
   ],
   "source": [
    "g = sns.catplot(x='groupnum', y='first_pt', data=final_attempts, kind='box')\n",
    "\n",
    "g2 = sns.catplot(x='groupnum', y='recording_time', data=final_attempts, kind='box')\n",
    "\n",
    "g3 = sns.catplot(x='groupnum', y='total_time', data=final_attempts, kind='box')\n",
    "\n",
    "g4 = sns.catplot(x='groupnum', y='attemptnum', data=final_attempts, kind='box')\n",
    "\n",
    "print(\n",
    "    final_attempts.where(\n",
    "        final_attempts.groupnum=='group1'\n",
    "    ).dropna(how='all').planning_time.mean(),\n",
    "    final_attempts.where(\n",
    "        final_attempts.groupnum=='group2'\n",
    "    ).dropna(how='all').planning_time.mean()\n",
    ")"
   ]
  },
  {
   "cell_type": "code",
   "execution_count": 3,
   "id": "dfcf915a",
   "metadata": {},
   "outputs": [
    {
     "data": {
      "text/plain": [
       "Index(['idparticipant', 'idsession', 'idattemptsubmission', 'idquery',\n",
       "       'idstep', 'attemptnum', 'total_time', 'recording_time', 'planning_time',\n",
       "       'tot_pt', 'first_pt', 'tot_tt', 'groupnum', 'step', 'speakql_first',\n",
       "       'language', 'ispractice', 'correct', 'usedspeakql', 'complexity',\n",
       "       'normalized', 'is_complex', 'num_mods', 'num_joins', 'num_funcs',\n",
       "       'num_proj', 'num_tables', 'num_selections', 'used_unbundling',\n",
       "       'unbundling_possible', 'used_natural_functions',\n",
       "       'natural_functions_possible', 'used_mod_ordering',\n",
       "       'mod_ordering_possible', 'used_expression_ordering',\n",
       "       'expression_ordering_possible', 'used_synonyms', 'synonyms_possible',\n",
       "       'relative_step', 'second_half'],\n",
       "      dtype='object')"
      ]
     },
     "execution_count": 3,
     "metadata": {},
     "output_type": "execute_result"
    }
   ],
   "source": [
    "final_attempts.columns"
   ]
  },
  {
   "cell_type": "code",
   "execution_count": 4,
   "id": "adac8d38",
   "metadata": {},
   "outputs": [
    {
     "data": {
      "text/plain": [
       "<seaborn.axisgrid.FacetGrid at 0x204df5c6be0>"
      ]
     },
     "execution_count": 4,
     "metadata": {},
     "output_type": "execute_result"
    },
    {
     "data": {
      "image/png": "[encoded data removed]",
      "text/plain": [
       "<Figure size 434.75x360 with 1 Axes>"
      ]
     },
     "metadata": {
      "needs_background": "light"
     },
     "output_type": "display_data"
    }
   ],
   "source": [
    "sns.lmplot(data = final_attempts, \n",
    "           x = 'speakql_first', \n",
    "           y = 'planning_time',\n",
    "           hue = 'language'\n",
    "          )"
   ]
  },
  {
   "cell_type": "markdown",
   "id": "0a9295b5",
   "metadata": {},
   "source": [
    "Here we are checking for learning effect based on page 183 of Mackenzie's Human-Computer Interaction An Empirical Research Perspective text.\n",
    "\n",
    "We break the data into two sections: queries performed in the first half, and queries performed in the second half. We should observe a learning effect (performance improves in the second half) that is consistent between languages. This is indicated by somewhat parallel lines. \n",
    "\n",
    "There is an asymmetric learning effect if the lines intersect dramatically, indicating that learning occurs in the first half of the experiment that affects the second half disproportionately."
   ]
  },
  {
   "cell_type": "code",
   "execution_count": 5,
   "id": "ac3e65aa",
   "metadata": {},
   "outputs": [],
   "source": [
    "final_attempts['tot_tt'] = final_attempts.tot_tt.astype(int)"
   ]
  },
  {
   "cell_type": "code",
   "execution_count": 6,
   "id": "a0eef282",
   "metadata": {},
   "outputs": [
    {
     "data": {
      "text/plain": [
       "<seaborn.axisgrid.FacetGrid at 0x204df66cb50>"
      ]
     },
     "execution_count": 6,
     "metadata": {},
     "output_type": "execute_result"
    },
    {
     "data": {
      "image/png": "[encoded data removed]",
      "text/plain": [
       "<Figure size 434.75x360 with 1 Axes>"
      ]
     },
     "metadata": {
      "needs_background": "light"
     },
     "output_type": "display_data"
    },
    {
     "data": {
      "image/png": "[encoded data removed]",
      "text/plain": [
       "<Figure size 434.75x360 with 1 Axes>"
      ]
     },
     "metadata": {
      "needs_background": "light"
     },
     "output_type": "display_data"
    },
    {
     "data": {
      "image/png": "[encoded data removed]",
      "text/plain": [
       "<Figure size 434.75x360 with 1 Axes>"
      ]
     },
     "metadata": {
      "needs_background": "light"
     },
     "output_type": "display_data"
    }
   ],
   "source": [
    "sns.lmplot(data = final_attempts,\n",
    "           x = 'second_half',\n",
    "           y = 'first_pt',\n",
    "           hue = 'language'\n",
    "          )\n",
    "\n",
    "sns.lmplot(data = final_attempts,\n",
    "           x = 'second_half',\n",
    "           y = 'attemptnum',\n",
    "           hue = 'language'\n",
    "          )\n",
    "\n",
    "sns.lmplot(data = final_attempts,\n",
    "           x = 'second_half',\n",
    "           y = 'tot_tt',\n",
    "           hue = 'language'\n",
    "          )"
   ]
  },
  {
   "cell_type": "code",
   "execution_count": null,
   "id": "adcb0b17",
   "metadata": {},
   "outputs": [],
   "source": []
  }
 ],
 "metadata": {
  "kernelspec": {
   "display_name": "Python 3",
   "language": "python",
   "name": "python3"
  },
  "language_info": {
   "codemirror_mode": {
    "name": "ipython",
    "version": 3
   },
   "file_extension": ".py",
   "mimetype": "text/x-python",
   "name": "python",
   "nbconvert_exporter": "python",
   "pygments_lexer": "ipython3",
   "version": "3.8.8"
  }
 },
 "nbformat": 4,
 "nbformat_minor": 5
}
